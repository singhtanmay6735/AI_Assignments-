{
  "nbformat": 4,
  "nbformat_minor": 0,
  "metadata": {
    "colab": {
      "name": "Lab Ass1(a)_code_TanmaySingh.ipynb",
      "provenance": [],
      "authorship_tag": "ABX9TyM40qfOS5v+g+vVIaibKiKy",
      "include_colab_link": true
    },
    "kernelspec": {
      "name": "python3",
      "display_name": "Python 3"
    },
    "language_info": {
      "name": "python"
    }
  },
  "cells": [
    {
      "cell_type": "markdown",
      "metadata": {
        "id": "view-in-github",
        "colab_type": "text"
      },
      "source": [
        "<a href=\"https://colab.research.google.com/github/singhtanmay6735/AI_Assignments-/blob/main/Lab_Ass1(a)_code_TanmaySingh.ipynb\" target=\"_parent\"><img src=\"https://colab.research.google.com/assets/colab-badge.svg\" alt=\"Open In Colab\"/></a>"
      ]
    },
    {
      "cell_type": "code",
      "metadata": {
        "id": "yCw2b--tFiLk"
      },
      "source": [
        "#Tanmay Singh\n",
        "#E20CSE035"
      ],
      "execution_count": 2,
      "outputs": []
    },
    {
      "cell_type": "code",
      "metadata": {
        "colab": {
          "base_uri": "https://localhost:8080/"
        },
        "id": "oci7lFgpFDnY",
        "outputId": "4f348748-e93f-4266-9255-2a16fa5e99f0"
      },
      "source": [
        "numbers=input().replace(\" \",\"\")\n",
        "ls=numbers.split(\",\")\n",
        "ls=list(ls)\n",
        "def unique(list):\n",
        " \n",
        "    unique_list=[]\n",
        "    for x in list:\n",
        "        if x not in unique_list:\n",
        "            unique_list.append(x)\n",
        "    return (unique_list)\n",
        "\n",
        "uniq=unique(ls)\n",
        "string = \",\".join(uniq)\n",
        "print(string)\n",
        "WOR"
      ],
      "execution_count": 5,
      "outputs": [
        {
          "output_type": "stream",
          "name": "stdout",
          "text": [
            "1,2,2,3,4,5,6,6,8\n",
            "1,2,3,4,5,6,8\n"
          ]
        }
      ]
    },
    {
      "cell_type": "code",
      "metadata": {
        "colab": {
          "base_uri": "https://localhost:8080/"
        },
        "id": "0KsK-wUrGYAm",
        "outputId": "4aeead02-8e4a-4252-dde0-68516c363a3b"
      },
      "source": [
        "numbers=input().replace(\" \",\"\")\n",
        "ls=numbers.split(\",\")\n",
        "ls=list(ls)\n",
        "def unique(list):\n",
        " \n",
        "    unique_list=[]\n",
        "    for x in list:\n",
        "        if x not in unique_list:\n",
        "            unique_list.append(x)\n",
        "    return (unique_list)\n",
        "\n",
        "uniq=unique(ls)\n",
        "string = \",\".join(uniq)\n",
        "print(string)\n"
      ],
      "execution_count": 6,
      "outputs": [
        {
          "output_type": "stream",
          "name": "stdout",
          "text": [
            "4, 5, 8, 5, 4, 10,15, 9, 8, 9, 16\n",
            "4,5,8,10,15,9,16\n"
          ]
        }
      ]
    }
  ]
}