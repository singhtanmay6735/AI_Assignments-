{
  "nbformat": 4,
  "nbformat_minor": 0,
  "metadata": {
    "colab": {
      "name": "Lab Ass2(a)_code_TanmaySingh.ipynb",
      "provenance": [],
      "authorship_tag": "ABX9TyNkDNXy22o8RhNIW5aOvEjc",
      "include_colab_link": true
    },
    "kernelspec": {
      "name": "python3",
      "display_name": "Python 3"
    },
    "language_info": {
      "name": "python"
    }
  },
  "cells": [
    {
      "cell_type": "markdown",
      "metadata": {
        "id": "view-in-github",
        "colab_type": "text"
      },
      "source": [
        "<a href=\"https://colab.research.google.com/github/singhtanmay6735/AI_Assignments-/blob/main/Lab_Ass2(a)_code_TanmaySingh.ipynb\" target=\"_parent\"><img src=\"https://colab.research.google.com/assets/colab-badge.svg\" alt=\"Open In Colab\"/></a>"
      ]
    },
    {
      "cell_type": "code",
      "metadata": {
        "id": "izfB4aWcH145"
      },
      "source": [
        "#Tanmay Singh\n",
        "#E20CSE035  "
      ],
      "execution_count": 2,
      "outputs": []
    },
    {
      "cell_type": "code",
      "metadata": {
        "colab": {
          "base_uri": "https://localhost:8080/"
        },
        "id": "7dvoy486IAcC",
        "outputId": "a662fc2f-ae28-43bd-e338-37b8be220411"
      },
      "source": [
        "import numpy as n\n",
        "n1=input().replace(\" \",\"\")\n",
        "ls1=n1.split(\",\")\n",
        "ls1=list(ls1)\n",
        "n2=input().replace(\" \",\"\")\n",
        "ls2=n2.split(\",\")\n",
        "ls2=list(ls2)\n",
        "A = n.array(ls1)\n",
        "B = n.array(ls2)\n",
        "common=n.intersect1d(A , B)\n",
        "string = \",\".join(common)\n",
        "print(\",\".join(common))"
      ],
      "execution_count": 3,
      "outputs": [
        {
          "output_type": "stream",
          "name": "stdout",
          "text": [
            "1,2,2,3,4,5,6,6,8\n",
            "1,3,4, 8, 10, 15, 9\n",
            "1,3,4,8\n"
          ]
        }
      ]
    },
    {
      "cell_type": "code",
      "metadata": {
        "colab": {
          "base_uri": "https://localhost:8080/"
        },
        "id": "4X_YYT_zIUiO",
        "outputId": "3c6b10e6-9f4c-4edc-9ed6-da76a4601d66"
      },
      "source": [
        "import numpy as n\n",
        "n1=input().replace(\" \",\"\")\n",
        "ls1=n1.split(\",\")\n",
        "ls1=list(ls1)\n",
        "n2=input().replace(\" \",\"\")\n",
        "ls2=n2.split(\",\")\n",
        "ls2=list(ls2)\n",
        "A = n.array(ls1)\n",
        "B = n.array(ls2)\n",
        "common=n.intersect1d(A , B)\n",
        "string = \",\".join(common)\n",
        "print(\",\".join(common))"
      ],
      "execution_count": 5,
      "outputs": [
        {
          "output_type": "stream",
          "name": "stdout",
          "text": [
            "4, 5, 8, 5, 4, 10,15, 9, 8, 9, 16\n",
            "1,3,4, 8, 10, 15, 9, 15, 18, 16\n",
            "10,15,16,4,8,9\n"
          ]
        }
      ]
    }
  ]
}