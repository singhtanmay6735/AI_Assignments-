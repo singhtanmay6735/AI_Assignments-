{
  "nbformat": 4,
  "nbformat_minor": 0,
  "metadata": {
    "colab": {
      "name": "LabAss5_code_TanmaySingh.ipynb",
      "provenance": [],
      "authorship_tag": "ABX9TyOOIWqdoaMD7hkInjOYq79r",
      "include_colab_link": true
    },
    "kernelspec": {
      "name": "python3",
      "display_name": "Python 3"
    },
    "language_info": {
      "name": "python"
    }
  },
  "cells": [
    {
      "cell_type": "markdown",
      "metadata": {
        "id": "view-in-github",
        "colab_type": "text"
      },
      "source": [
        "<a href=\"https://colab.research.google.com/github/singhtanmay6735/AI_Assignments-/blob/main/LabAss5_code_TanmaySingh.ipynb\" target=\"_parent\"><img src=\"https://colab.research.google.com/assets/colab-badge.svg\" alt=\"Open In Colab\"/></a>"
      ]
    },
    {
      "cell_type": "markdown",
      "metadata": {
        "id": "_J8wuc5PtQNI"
      },
      "source": [
        "#Tanmay Singh \n",
        "E20CSE035"
      ]
    },
    {
      "cell_type": "code",
      "metadata": {
        "id": "XU5sCkmKRUBY"
      },
      "source": [
        "import numpy as np\n",
        "import pandas as pd\n",
        "import math\n",
        "import matplotlib.pyplot as plt\n",
        "import seaborn as sns\n",
        "import math\n",
        "import scipy.special\n",
        "from scipy.stats import binom\n",
        "from IPython.display import Math, Latex\n",
        "from IPython.core.display import Image\n",
        "from scipy.stats import poisson,expon,gamma,uniform,binom,norm\n",
        "%matplotlib inline"
      ],
      "execution_count": 10,
      "outputs": []
    },
    {
      "cell_type": "code",
      "metadata": {
        "id": "FixR8HcHR4vw"
      },
      "source": [
        "# Question C-->"
      ],
      "execution_count": 11,
      "outputs": []
    },
    {
      "cell_type": "code",
      "metadata": {
        "colab": {
          "base_uri": "https://localhost:8080/"
        },
        "id": "Aode_DJxR9vY",
        "outputId": "8c4c99ce-e145-4726-8dc1-6cb2fe39dae8"
      },
      "source": [
        "x=np.array([1,4,3,4,9,6,10,8,11,10])\n",
        "print(\"Random variables: \",x)\n",
        "n=x.size\n",
        "print(\"number of random variables: \",n)"
      ],
      "execution_count": 12,
      "outputs": [
        {
          "output_type": "stream",
          "name": "stdout",
          "text": [
            "Random variables:  [ 1  4  3  4  9  6 10  8 11 10]\n",
            "number of random variables:  10\n"
          ]
        }
      ]
    },
    {
      "cell_type": "markdown",
      "metadata": {
        "id": "HtbqhlwAT6rp"
      },
      "source": [
        "**POISSON DISTRIBUTION**"
      ]
    },
    {
      "cell_type": "code",
      "metadata": {
        "colab": {
          "base_uri": "https://localhost:8080/"
        },
        "id": "5imUx8kiSBNA",
        "outputId": "31f3570c-b4ca-475e-f1f7-0a3d0a0005f3"
      },
      "source": [
        "lambda_poi = np.array([10,3,1,4,3,6,8,5,4,9])  \n",
        "print(\"lambda: \",lambda_poi)"
      ],
      "execution_count": 48,
      "outputs": [
        {
          "output_type": "stream",
          "name": "stdout",
          "text": [
            "lambda:  [10  3  1  4  3  6  8  5  4  9]\n"
          ]
        }
      ]
    },
    {
      "cell_type": "code",
      "metadata": {
        "colab": {
          "base_uri": "https://localhost:8080/"
        },
        "id": "LDDUXMujUTho",
        "outputId": "d359afee-9437-4273-dcc5-22c6bea499bb"
      },
      "source": [
        "for i in range(n):\n",
        "  P=((np.sum(x[i]*np.log10(lambda_poi[i])))-(n*lambda_poi[i])-(np.sum(np.log(math.factorial(x[i])))))\n",
        "  print(np.round(P,3))"
      ],
      "execution_count": 49,
      "outputs": [
        {
          "output_type": "stream",
          "name": "stdout",
          "text": [
            "-101.525\n",
            "-32.402\n",
            "-13.178\n",
            "-44.311\n",
            "-32.402\n",
            "-64.379\n",
            "-79.566\n",
            "-52.385\n",
            "-39.489\n",
            "-90.854\n"
          ]
        }
      ]
    },
    {
      "cell_type": "markdown",
      "metadata": {
        "id": "IOISPhu8UYay"
      },
      "source": [
        "**EXPONENTIAL DISTRIBUTION**"
      ]
    },
    {
      "cell_type": "code",
      "metadata": {
        "colab": {
          "base_uri": "https://localhost:8080/"
        },
        "id": "tC7IKHBuUhVO",
        "outputId": "42562b3a-6966-4f7e-ce2d-7ec3e431e283"
      },
      "source": [
        "beta=np.array([1,4,3,4,9,6,10,8,11,10,14,23,13,2,7])\n",
        "print(\"beta: \",beta)"
      ],
      "execution_count": 15,
      "outputs": [
        {
          "output_type": "stream",
          "name": "stdout",
          "text": [
            "beta:  [ 1  4  3  4  9  6 10  8 11 10 14 23 13  2  7]\n"
          ]
        }
      ]
    },
    {
      "cell_type": "code",
      "metadata": {
        "colab": {
          "base_uri": "https://localhost:8080/"
        },
        "id": "bOu5jVq5UnzW",
        "outputId": "fb7da036-087d-4278-d4cb-222d29483ff8"
      },
      "source": [
        "for i in range(n):\n",
        "  E=(-n*np.log10(beta[i])-((1/beta[i])*np.sum(x[i])))\n",
        "  print(np.round(E,3))"
      ],
      "execution_count": 16,
      "outputs": [
        {
          "output_type": "stream",
          "name": "stdout",
          "text": [
            "-1.0\n",
            "-7.021\n",
            "-5.771\n",
            "-7.021\n",
            "-10.542\n",
            "-8.782\n",
            "-11.0\n",
            "-10.031\n",
            "-11.414\n",
            "-11.0\n"
          ]
        }
      ]
    },
    {
      "cell_type": "markdown",
      "metadata": {
        "id": "fYNMrJ8IpQfW"
      },
      "source": [
        "**GAMMA DISTRIBUTION**\n"
      ]
    },
    {
      "cell_type": "code",
      "metadata": {
        "colab": {
          "base_uri": "https://localhost:8080/"
        },
        "id": "k9JtPpsvpUCd",
        "outputId": "7127900c-8754-413a-fc48-738e92b1e71a"
      },
      "source": [
        "alpha=np.array([1,4,3,4,9,6,10,8,11,10,14,23,13,2,7])\n",
        "lambda_gm=np.array([4,8,9,1,3,4,10,11,5,6])\n",
        "print(\"alpha: \",alpha)\n",
        "print(\"lamda: \",lambda_gm)"
      ],
      "execution_count": 17,
      "outputs": [
        {
          "output_type": "stream",
          "name": "stdout",
          "text": [
            "alpha:  [ 1  4  3  4  9  6 10  8 11 10 14 23 13  2  7]\n",
            "lamda:  [ 4  8  9  1  3  4 10 11  5  6]\n"
          ]
        }
      ]
    },
    {
      "cell_type": "code",
      "metadata": {
        "colab": {
          "base_uri": "https://localhost:8080/"
        },
        "id": "EoBqOSLFpYmf",
        "outputId": "6690ffac-3d29-431c-c325-bfe76135f20c"
      },
      "source": [
        "for i in range(n):\n",
        "  G= (-n*np.log10(math.gamma(alpha[i])) + alpha[i]*n*np.log10(lambda_gm[i]) + np.sum((alpha[i]-1)*(np.log10(x[i]))) - np.sum(lambda_gm*np.log(x[i])))\n",
        "  print(np.round(G,3))"
      ],
      "execution_count": 18,
      "outputs": [
        {
          "output_type": "stream",
          "name": "stdout",
          "text": [
            "6.021\n",
            "-54.416\n",
            "-40.444\n",
            "-90.539\n",
            "-129.511\n",
            "-90.075\n",
            "-87.055\n",
            "-74.237\n",
            "-124.569\n",
            "-109.24\n"
          ]
        }
      ]
    },
    {
      "cell_type": "markdown",
      "metadata": {
        "id": "K281HM_Ipgg1"
      },
      "source": [
        "**UNIFORM DISTRIRBUTION**"
      ]
    },
    {
      "cell_type": "code",
      "metadata": {
        "colab": {
          "base_uri": "https://localhost:8080/"
        },
        "id": "Dw0W4cPqpnrF",
        "outputId": "6a27a48e-5743-4512-cf6d-e6165160ac8e"
      },
      "source": [
        "a=np.array([1,4,3,4,9,6,10,8,11,10])\n",
        "b=np.array([12,23,17,13,25,40,20,13,55,32])\n",
        "print(\"a: \",a)\n",
        "print(\"b: \",b)"
      ],
      "execution_count": 19,
      "outputs": [
        {
          "output_type": "stream",
          "name": "stdout",
          "text": [
            "a:  [ 1  4  3  4  9  6 10  8 11 10]\n",
            "b:  [12 23 17 13 25 40 20 13 55 32]\n"
          ]
        }
      ]
    },
    {
      "cell_type": "code",
      "metadata": {
        "colab": {
          "base_uri": "https://localhost:8080/"
        },
        "id": "Z1MmFJFnps0G",
        "outputId": "02f77295-dbf3-44f7-ddaf-c602e14f724c"
      },
      "source": [
        "for i in range(n):\n",
        "  U=(-n*np.log10(b-a))\n",
        "  print(np.round(U,3))"
      ],
      "execution_count": 20,
      "outputs": [
        {
          "output_type": "stream",
          "name": "stdout",
          "text": [
            "[-10.414 -12.788 -11.461  -9.542 -12.041 -15.315 -10.     -6.99  -16.435\n",
            " -13.424]\n",
            "[-10.414 -12.788 -11.461  -9.542 -12.041 -15.315 -10.     -6.99  -16.435\n",
            " -13.424]\n",
            "[-10.414 -12.788 -11.461  -9.542 -12.041 -15.315 -10.     -6.99  -16.435\n",
            " -13.424]\n",
            "[-10.414 -12.788 -11.461  -9.542 -12.041 -15.315 -10.     -6.99  -16.435\n",
            " -13.424]\n",
            "[-10.414 -12.788 -11.461  -9.542 -12.041 -15.315 -10.     -6.99  -16.435\n",
            " -13.424]\n",
            "[-10.414 -12.788 -11.461  -9.542 -12.041 -15.315 -10.     -6.99  -16.435\n",
            " -13.424]\n",
            "[-10.414 -12.788 -11.461  -9.542 -12.041 -15.315 -10.     -6.99  -16.435\n",
            " -13.424]\n",
            "[-10.414 -12.788 -11.461  -9.542 -12.041 -15.315 -10.     -6.99  -16.435\n",
            " -13.424]\n",
            "[-10.414 -12.788 -11.461  -9.542 -12.041 -15.315 -10.     -6.99  -16.435\n",
            " -13.424]\n",
            "[-10.414 -12.788 -11.461  -9.542 -12.041 -15.315 -10.     -6.99  -16.435\n",
            " -13.424]\n"
          ]
        }
      ]
    },
    {
      "cell_type": "markdown",
      "metadata": {
        "id": "ncouYVdQp0Nd"
      },
      "source": [
        "**BINOMIAL DISTRIBUTION**"
      ]
    },
    {
      "cell_type": "code",
      "metadata": {
        "colab": {
          "base_uri": "https://localhost:8080/"
        },
        "id": "VcG4aD5Cp3Kt",
        "outputId": "7db62b34-b36d-4611-c002-a711283e263d"
      },
      "source": [
        "p=np.array([.5,.2,.3,.7,.8,.11,.6,.8,.1,.2])\n",
        "print(\"p: \",p)"
      ],
      "execution_count": 21,
      "outputs": [
        {
          "output_type": "stream",
          "name": "stdout",
          "text": [
            "p:  [0.5  0.2  0.3  0.7  0.8  0.11 0.6  0.8  0.1  0.2 ]\n"
          ]
        }
      ]
    },
    {
      "cell_type": "code",
      "metadata": {
        "colab": {
          "base_uri": "https://localhost:8080/"
        },
        "id": "R927lFJXp6JG",
        "outputId": "71bd676d-5bb3-4ce0-883b-6d2ec766fb32"
      },
      "source": [
        "for i in range(n):\n",
        "  B=x[i]/n\n",
        "  print(B)"
      ],
      "execution_count": 22,
      "outputs": [
        {
          "output_type": "stream",
          "name": "stdout",
          "text": [
            "0.1\n",
            "0.4\n",
            "0.3\n",
            "0.4\n",
            "0.9\n",
            "0.6\n",
            "1.0\n",
            "0.8\n",
            "1.1\n",
            "1.0\n"
          ]
        }
      ]
    },
    {
      "cell_type": "markdown",
      "metadata": {
        "id": "5iS_qF2XqBro"
      },
      "source": [
        "**GAUSSIAN DISTRIBUTION**"
      ]
    },
    {
      "cell_type": "code",
      "metadata": {
        "colab": {
          "base_uri": "https://localhost:8080/"
        },
        "id": "EMbC-nztqDo9",
        "outputId": "976edd31-b071-4077-843b-e95720f64c19"
      },
      "source": [
        "mu=np.array([2,4,6,1,7,8,11,10,4,18])\n",
        "sigma=np.array([1,6,4,9,10,11,3,4,8,2])\n",
        "print(\"mu: \",mu)\n",
        "print(\"sigma: \",sigma)"
      ],
      "execution_count": 23,
      "outputs": [
        {
          "output_type": "stream",
          "name": "stdout",
          "text": [
            "mu:  [ 2  4  6  1  7  8 11 10  4 18]\n",
            "sigma:  [ 1  6  4  9 10 11  3  4  8  2]\n"
          ]
        }
      ]
    },
    {
      "cell_type": "code",
      "metadata": {
        "colab": {
          "base_uri": "https://localhost:8080/"
        },
        "id": "o0_CKlSQqRGk",
        "outputId": "9b16cd9b-8a7a-4b92-b283-1ad7a18102ed"
      },
      "source": [
        "for i in range(n):\n",
        "  G=(-n*np.log10(sigma[i])- (n/2)*np.log10(2*math.pi) - 1/(2*(sigma[i]**2)) * np.sum((x[i]-mu[i])**2))\n",
        "  print(np.round(G,3))"
      ],
      "execution_count": 24,
      "outputs": [
        {
          "output_type": "stream",
          "name": "stdout",
          "text": [
            "-4.491\n",
            "-11.772\n",
            "-10.293\n",
            "-13.589\n",
            "-14.011\n",
            "-14.421\n",
            "-8.818\n",
            "-10.136\n",
            "-13.405\n",
            "-15.001\n"
          ]
        }
      ]
    },
    {
      "cell_type": "code",
      "metadata": {
        "id": "efo53CRIqV0V"
      },
      "source": [
        "#Question D-->\n"
      ],
      "execution_count": 25,
      "outputs": []
    },
    {
      "cell_type": "markdown",
      "metadata": {
        "id": "qNIwYKC0q2Yj"
      },
      "source": [
        "**FOR HEAD**"
      ]
    },
    {
      "cell_type": "code",
      "metadata": {
        "colab": {
          "base_uri": "https://localhost:8080/"
        },
        "id": "gqT0Zi9Dq5sc",
        "outputId": "453662c7-a335-44cb-b25d-01f275010836"
      },
      "source": [
        "n=10\n",
        "p=0.5\n",
        "size=10000\n",
        "x=np.random.binomial(n=n, p=p, size=size)\n",
        "x"
      ],
      "execution_count": 26,
      "outputs": [
        {
          "output_type": "execute_result",
          "data": {
            "text/plain": [
              "array([7, 5, 3, ..., 4, 3, 5])"
            ]
          },
          "metadata": {},
          "execution_count": 26
        }
      ]
    },
    {
      "cell_type": "code",
      "metadata": {
        "colab": {
          "base_uri": "https://localhost:8080/"
        },
        "id": "jRroFYcuq-Yj",
        "outputId": "94948c82-ac4a-4c51-f60d-7970bea10d95"
      },
      "source": [
        "[np.equal(x,i).sum() for i in range(n)]"
      ],
      "execution_count": 27,
      "outputs": [
        {
          "output_type": "execute_result",
          "data": {
            "text/plain": [
              "[11, 95, 458, 1221, 2050, 2384, 2009, 1226, 452, 85]"
            ]
          },
          "metadata": {},
          "execution_count": 27
        }
      ]
    },
    {
      "cell_type": "code",
      "metadata": {
        "colab": {
          "base_uri": "https://localhost:8080/"
        },
        "id": "OWgPQ8MjrBB8",
        "outputId": "c0f83a51-00ca-4ac5-ce0a-fd0cb3edcb92"
      },
      "source": [
        "probs_100 = [np.equal(x,i).mean() for i in range(n)]\n",
        "print(probs_100)"
      ],
      "execution_count": 28,
      "outputs": [
        {
          "output_type": "stream",
          "name": "stdout",
          "text": [
            "[0.0011, 0.0095, 0.0458, 0.1221, 0.205, 0.2384, 0.2009, 0.1226, 0.0452, 0.0085]\n"
          ]
        }
      ]
    },
    {
      "cell_type": "code",
      "metadata": {
        "colab": {
          "base_uri": "https://localhost:8080/",
          "height": 305
        },
        "id": "G5ovnotnrDit",
        "outputId": "67cc1351-f300-4f3c-a930-4465ae0c55f4"
      },
      "source": [
        "plt.xticks(range(n))\n",
        "plt.plot(list(range(n)), probs_100, color='blue', marker='x')\n",
        "plt.xlabel('Number of Heads',fontsize=16)\n",
        "plt.ylabel('Probability',fontsize=16)"
      ],
      "execution_count": 29,
      "outputs": [
        {
          "output_type": "execute_result",
          "data": {
            "text/plain": [
              "Text(0, 0.5, 'Probability')"
            ]
          },
          "metadata": {},
          "execution_count": 29
        },
        {
          "output_type": "display_data",
          "data": {
            "image/png": "[encoded data removed]",
            "text/plain": [
              "<Figure size 432x288 with 1 Axes>"
            ]
          },
          "metadata": {
            "needs_background": "light"
          }
        }
      ]
    },
    {
      "cell_type": "code",
      "metadata": {
        "colab": {
          "base_uri": "https://localhost:8080/",
          "height": 319
        },
        "id": "WOOD9-L2rIFk",
        "outputId": "2febf701-f8a3-4254-a89d-70b67285a76d"
      },
      "source": [
        "n=10\n",
        "p=0.5\n",
        "size=10000\n",
        "x=np.random.binomial(n=n, p=p, size=size)\n",
        "x\n",
        "[np.equal(x,i).sum() for i in range(n)]\n",
        "probs_100 = [np.equal(x,i).mean() for i in range(n)]\n",
        "print(probs_100)\n",
        "plt.xticks(range(n))\n",
        "plt.plot(list(range(n)), probs_100, color='green', marker='x')\n",
        "plt.xlabel('Number of Tails',fontsize=16)\n",
        "plt.ylabel('Probability',fontsize=16)"
      ],
      "execution_count": 30,
      "outputs": [
        {
          "output_type": "stream",
          "name": "stdout",
          "text": [
            "[0.0006, 0.0084, 0.0489, 0.1225, 0.1979, 0.2549, 0.1965, 0.1197, 0.041, 0.0088]\n"
          ]
        },
        {
          "output_type": "execute_result",
          "data": {
            "text/plain": [
              "Text(0, 0.5, 'Probability')"
            ]
          },
          "metadata": {},
          "execution_count": 30
        },
        {
          "output_type": "display_data",
          "data": {
            "image/png": "[encoded data removed]",
            "text/plain": [
              "<Figure size 432x288 with 1 Axes>"
            ]
          },
          "metadata": {
            "needs_background": "light"
          }
        }
      ]
    },
    {
      "cell_type": "code",
      "metadata": {
        "id": "OmJ0M3j8rLsU"
      },
      "source": [
        "# Question E -->"
      ],
      "execution_count": 31,
      "outputs": []
    },
    {
      "cell_type": "markdown",
      "metadata": {
        "id": "PhsIUZzsrWM6"
      },
      "source": [
        "POISSON DISTRIBUTION GRAPH"
      ]
    },
    {
      "cell_type": "code",
      "metadata": {
        "id": "ti4DNjy0rSwk"
      },
      "source": [
        "data_poisson = poisson.rvs(mu=3, size=10000)"
      ],
      "execution_count": 32,
      "outputs": []
    },
    {
      "cell_type": "code",
      "metadata": {
        "colab": {
          "base_uri": "https://localhost:8080/",
          "height": 351
        },
        "id": "FlTxBzZwrZZk",
        "outputId": "9d6947d5-3c78-4e0d-d7d2-3a4d776e7a3c"
      },
      "source": [
        "ax = sns.distplot(data_poisson,bins=30,kde=False,color='red',\n",
        "                  hist_kws={\"linewidth\": 15,'alpha':1})\n",
        "ax.set(xlabel='Poisson Distribution', ylabel='Frequency')"
      ],
      "execution_count": 33,
      "outputs": [
        {
          "output_type": "stream",
          "name": "stderr",
          "text": [
            "/usr/local/lib/python3.7/dist-packages/seaborn/distributions.py:2619: FutureWarning: `distplot` is a deprecated function and will be removed in a future version. Please adapt your code to use either `displot` (a figure-level function with similar flexibility) or `histplot` (an axes-level function for histograms).\n",
            "  warnings.warn(msg, FutureWarning)\n"
          ]
        },
        {
          "output_type": "execute_result",
          "data": {
            "text/plain": [
              "[Text(0, 0.5, 'Frequency'), Text(0.5, 0, 'Poisson Distribution')]"
            ]
          },
          "metadata": {},
          "execution_count": 33
        },
        {
          "output_type": "display_data",
          "data": {
            "image/png": "[encoded data removed]",
            "text/plain": [
              "<Figure size 432x288 with 1 Axes>"
            ]
          },
          "metadata": {
            "needs_background": "light"
          }
        }
      ]
    },
    {
      "cell_type": "markdown",
      "metadata": {
        "id": "AFMkajv3rqbz"
      },
      "source": [
        "**EXPONENTIAL DISTRIBUTION GRAPH**"
      ]
    },
    {
      "cell_type": "code",
      "metadata": {
        "id": "5QqFLwK1rbb0"
      },
      "source": [
        "data_expon = expon.rvs(scale=1,loc=0,size=10000)"
      ],
      "execution_count": 34,
      "outputs": []
    },
    {
      "cell_type": "code",
      "metadata": {
        "colab": {
          "base_uri": "https://localhost:8080/",
          "height": 351
        },
        "id": "oKOuY5v1rtwE",
        "outputId": "2e5b4ef3-ede9-44a1-f853-e40b71cc972c"
      },
      "source": [
        "ax = sns.distplot(data_expon, kde=True, bins=100, color='green',\n",
        "                  hist_kws={\"linewidth\": 15,'alpha':1})\n",
        "ax.set(xlabel='Exponential Distribution', ylabel='Frequency')"
      ],
      "execution_count": 35,
      "outputs": [
        {
          "output_type": "stream",
          "name": "stderr",
          "text": [
            "/usr/local/lib/python3.7/dist-packages/seaborn/distributions.py:2619: FutureWarning: `distplot` is a deprecated function and will be removed in a future version. Please adapt your code to use either `displot` (a figure-level function with similar flexibility) or `histplot` (an axes-level function for histograms).\n",
            "  warnings.warn(msg, FutureWarning)\n"
          ]
        },
        {
          "output_type": "execute_result",
          "data": {
            "text/plain": [
              "[Text(0, 0.5, 'Frequency'), Text(0.5, 0, 'Exponential Distribution')]"
            ]
          },
          "metadata": {},
          "execution_count": 35
        },
        {
          "output_type": "display_data",
          "data": {
            "image/png": "[encoded data removed]",
            "text/plain": [
              "<Figure size 432x288 with 1 Axes>"
            ]
          },
          "metadata": {
            "needs_background": "light"
          }
        }
      ]
    },
    {
      "cell_type": "markdown",
      "metadata": {
        "id": "vCeBdwEnryWz"
      },
      "source": [
        "**GAMMA DISTRIBUTION GRAPH**"
      ]
    },
    {
      "cell_type": "code",
      "metadata": {
        "id": "mBQCc-Gvrvfb"
      },
      "source": [
        "data_gamma = gamma.rvs(a=5, size=10000)"
      ],
      "execution_count": 36,
      "outputs": []
    },
    {
      "cell_type": "code",
      "metadata": {
        "colab": {
          "base_uri": "https://localhost:8080/",
          "height": 351
        },
        "id": "Rnipk-bYr2Bl",
        "outputId": "f80f7d9b-69e6-42d9-fb54-fb24336bd3fe"
      },
      "source": [
        "ax = sns.distplot(data_gamma, kde=True, bins=100, color='pink',\n",
        "                  hist_kws={\"linewidth\": 15,'alpha':1})\n",
        "ax.set(xlabel='Gamma Distribution', ylabel='Frequency')"
      ],
      "execution_count": 37,
      "outputs": [
        {
          "output_type": "stream",
          "name": "stderr",
          "text": [
            "/usr/local/lib/python3.7/dist-packages/seaborn/distributions.py:2619: FutureWarning: `distplot` is a deprecated function and will be removed in a future version. Please adapt your code to use either `displot` (a figure-level function with similar flexibility) or `histplot` (an axes-level function for histograms).\n",
            "  warnings.warn(msg, FutureWarning)\n"
          ]
        },
        {
          "output_type": "execute_result",
          "data": {
            "text/plain": [
              "[Text(0, 0.5, 'Frequency'), Text(0.5, 0, 'Gamma Distribution')]"
            ]
          },
          "metadata": {},
          "execution_count": 37
        },
        {
          "output_type": "display_data",
          "data": {
            "image/png": "[encoded data removed]",
            "text/plain": [
              "<Figure size 432x288 with 1 Axes>"
            ]
          },
          "metadata": {
            "needs_background": "light"
          }
        }
      ]
    },
    {
      "cell_type": "markdown",
      "metadata": {
        "id": "NDhykpy5r9Iw"
      },
      "source": [
        "**UNIFORM DISTRIBUTION GRAPH**"
      ]
    },
    {
      "cell_type": "code",
      "metadata": {
        "id": "O1QlvVLpr4Bs"
      },
      "source": [
        "num = 10000\n",
        "start = 10\n",
        "width = 20\n",
        "data_uniform = uniform.rvs(size=num, loc = start, scale=width)"
      ],
      "execution_count": 38,
      "outputs": []
    },
    {
      "cell_type": "code",
      "metadata": {
        "colab": {
          "base_uri": "https://localhost:8080/",
          "height": 351
        },
        "id": "lob9Vl6msAzT",
        "outputId": "aefa907f-2679-4f23-e741-76fa086e9aa7"
      },
      "source": [
        "ax = sns.distplot(data_uniform, bins=100, kde=True, color='red',\n",
        "                  hist_kws={\"linewidth\": 15,'alpha':1})\n",
        "ax.set(xlabel='Uniform Distribution ', ylabel='Frequency')"
      ],
      "execution_count": 39,
      "outputs": [
        {
          "output_type": "stream",
          "name": "stderr",
          "text": [
            "/usr/local/lib/python3.7/dist-packages/seaborn/distributions.py:2619: FutureWarning: `distplot` is a deprecated function and will be removed in a future version. Please adapt your code to use either `displot` (a figure-level function with similar flexibility) or `histplot` (an axes-level function for histograms).\n",
            "  warnings.warn(msg, FutureWarning)\n"
          ]
        },
        {
          "output_type": "execute_result",
          "data": {
            "text/plain": [
              "[Text(0, 0.5, 'Frequency'), Text(0.5, 0, 'Uniform Distribution ')]"
            ]
          },
          "metadata": {},
          "execution_count": 39
        },
        {
          "output_type": "display_data",
          "data": {
            "image/png": "[encoded data removed]",
            "text/plain": [
              "<Figure size 432x288 with 1 Axes>"
            ]
          },
          "metadata": {
            "needs_background": "light"
          }
        }
      ]
    },
    {
      "cell_type": "markdown",
      "metadata": {
        "id": "lBqA-EDTsJ9z"
      },
      "source": [
        "**BINOMIAL DISTRIBUTION GRAPH**"
      ]
    },
    {
      "cell_type": "code",
      "metadata": {
        "id": "DKAA-dHWsF_0"
      },
      "source": [
        "data_binom = binom.rvs(n=10,p=0.8,size=10000)"
      ],
      "execution_count": 40,
      "outputs": []
    },
    {
      "cell_type": "code",
      "metadata": {
        "colab": {
          "base_uri": "https://localhost:8080/",
          "height": 351
        },
        "id": "3NZKpHFJsN0b",
        "outputId": "48ed7c57-fb79-43fe-b93b-b96943d1a823"
      },
      "source": [
        "ax = sns.distplot(data_binom, kde=False, color='purple',\n",
        "                  hist_kws={\"linewidth\": 15,'alpha':1})\n",
        "ax.set(xlabel='Binomial Distribution', ylabel='Frequency')"
      ],
      "execution_count": 41,
      "outputs": [
        {
          "output_type": "stream",
          "name": "stderr",
          "text": [
            "/usr/local/lib/python3.7/dist-packages/seaborn/distributions.py:2619: FutureWarning: `distplot` is a deprecated function and will be removed in a future version. Please adapt your code to use either `displot` (a figure-level function with similar flexibility) or `histplot` (an axes-level function for histograms).\n",
            "  warnings.warn(msg, FutureWarning)\n"
          ]
        },
        {
          "output_type": "execute_result",
          "data": {
            "text/plain": [
              "[Text(0, 0.5, 'Frequency'), Text(0.5, 0, 'Binomial Distribution')]"
            ]
          },
          "metadata": {},
          "execution_count": 41
        },
        {
          "output_type": "display_data",
          "data": {
            "image/png": "[encoded data removed]",
            "text/plain": [
              "<Figure size 432x288 with 1 Axes>"
            ]
          },
          "metadata": {
            "needs_background": "light"
          }
        }
      ]
    },
    {
      "cell_type": "markdown",
      "metadata": {
        "id": "n3C5oQgXsTM5"
      },
      "source": [
        "**GAUSSIAN DISTRIBUTION GRAPH**"
      ]
    },
    {
      "cell_type": "code",
      "metadata": {
        "id": "ix0dwNImsPSD"
      },
      "source": [
        "data_normal = norm.rvs(size=10000,loc=0,scale=1)"
      ],
      "execution_count": 42,
      "outputs": []
    },
    {
      "cell_type": "code",
      "metadata": {
        "colab": {
          "base_uri": "https://localhost:8080/",
          "height": 351
        },
        "id": "W8ztcT5xskbT",
        "outputId": "8fb7bcd9-8609-4d91-990d-2bc39e610117"
      },
      "source": [
        "ax = sns.distplot(data_normal, bins=100, kde=True,color='cyan',\n",
        "                  hist_kws={\"linewidth\": 15,'alpha':1})\n",
        "ax.set(xlabel='Normal Distribution', ylabel='Frequency')"
      ],
      "execution_count": 43,
      "outputs": [
        {
          "output_type": "stream",
          "name": "stderr",
          "text": [
            "/usr/local/lib/python3.7/dist-packages/seaborn/distributions.py:2619: FutureWarning: `distplot` is a deprecated function and will be removed in a future version. Please adapt your code to use either `displot` (a figure-level function with similar flexibility) or `histplot` (an axes-level function for histograms).\n",
            "  warnings.warn(msg, FutureWarning)\n"
          ]
        },
        {
          "output_type": "execute_result",
          "data": {
            "text/plain": [
              "[Text(0, 0.5, 'Frequency'), Text(0.5, 0, 'Normal Distribution')]"
            ]
          },
          "metadata": {},
          "execution_count": 43
        },
        {
          "output_type": "display_data",
          "data": {
            "image/png": "[encoded data removed]",
            "text/plain": [
              "<Figure size 432x288 with 1 Axes>"
            ]
          },
          "metadata": {
            "needs_background": "light"
          }
        }
      ]
    },
    {
      "cell_type": "code",
      "metadata": {
        "id": "vaFh32qosmsj"
      },
      "source": [
        "#Ques F\n"
      ],
      "execution_count": 44,
      "outputs": []
    },
    {
      "cell_type": "markdown",
      "metadata": {
        "id": "Fp42kXQzs-QJ"
      },
      "source": [
        "**5log(x) + 5log(1-x) + c**"
      ]
    },
    {
      "cell_type": "code",
      "metadata": {
        "colab": {
          "base_uri": "https://localhost:8080/"
        },
        "id": "uptsywnfsq8j",
        "outputId": "e334a09e-90f7-4736-afb9-9e2e9cf2ea27"
      },
      "source": [
        "theta=np.array([0.2,0.3,0.1,0.9,0.5,0.8,0.3,0.4,0.7,0.23])\n",
        "s=theta.size\n",
        "c=5\n",
        "print(s)"
      ],
      "execution_count": 45,
      "outputs": [
        {
          "output_type": "stream",
          "name": "stdout",
          "text": [
            "10\n"
          ]
        }
      ]
    },
    {
      "cell_type": "code",
      "metadata": {
        "colab": {
          "base_uri": "https://localhost:8080/"
        },
        "id": "lRbXxA8ctB6U",
        "outputId": "4dd9c333-6eeb-49d6-d949-836e4fc875e1"
      },
      "source": [
        "for i in range(s):\n",
        "  L=(c+ 5*np.log10(theta[i]) +(5*np.log10(1-theta[i])))\n",
        "  print(np.round(L,3))"
      ],
      "execution_count": 46,
      "outputs": [
        {
          "output_type": "stream",
          "name": "stdout",
          "text": [
            "1.021\n",
            "1.611\n",
            "-0.229\n",
            "-0.229\n",
            "1.99\n",
            "1.021\n",
            "1.611\n",
            "1.901\n",
            "1.611\n",
            "1.241\n"
          ]
        }
      ]
    },
    {
      "cell_type": "code",
      "metadata": {
        "id": "5B-4Xp8KtFdb"
      },
      "source": [
        ""
      ],
      "execution_count": 46,
      "outputs": []
    }
  ]
}