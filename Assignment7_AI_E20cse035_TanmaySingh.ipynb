{
  "nbformat": 4,
  "nbformat_minor": 0,
  "metadata": {
    "colab": {
      "name": "Assignment7_AI_E20cse035_TanmaySingh",
      "provenance": [],
      "include_colab_link": true
    },
    "kernelspec": {
      "name": "python3",
      "display_name": "Python 3"
    },
    "language_info": {
      "name": "python"
    }
  },
  "cells": [
    {
      "cell_type": "markdown",
      "metadata": {
        "id": "view-in-github",
        "colab_type": "text"
      },
      "source": [
        "<a href=\"https://colab.research.google.com/github/singhtanmay6735/AI_Assignments-/blob/main/Assignment7_AI_E20cse035_TanmaySingh.ipynb\" target=\"_parent\"><img src=\"https://colab.research.google.com/assets/colab-badge.svg\" alt=\"Open In Colab\"/></a>"
      ]
    },
    {
      "cell_type": "code",
      "metadata": {
        "id": "qVTrEE_J-LYi"
      },
      "source": [
        "import numpy as np\n",
        "from sympy import *\n",
        "from sympy.solvers.solveset import solvify, solveset\n",
        "import matplotlib.pyplot as plt\n",
        "import seaborn as sns\n",
        "import pandas as pd\n",
        "# define symbols only\n",
        "x,y = symbols('x y')\n"
      ],
      "execution_count": null,
      "outputs": []
    },
    {
      "cell_type": "code",
      "metadata": {
        "id": "UtBDUE6L-WeB"
      },
      "source": [
        "# define the function_\n",
        "y=x/(x**2+1)\n",
        "# define the lower interval value and upper interval value\n",
        "lv=[-10,-50,-75,-100,-200,-300,-400,-500,-750,-800,-900,-1000]\n",
        "uv=[10,50,75,100,200,300,400,500,750,800,900,1000]\n",
        "local_minima=[]\n",
        "local_maxima=[]\n",
        "global_minima=[]\n",
        "global_maxima=[]"
      ],
      "execution_count": null,
      "outputs": []
    },
    {
      "cell_type": "code",
      "metadata": {
        "colab": {
          "base_uri": "https://localhost:8080/",
          "height": 1000
        },
        "id": "vflvwbUFEiZI",
        "outputId": "f517ab52-c6fc-44bf-e905-c22707650e6f"
      },
      "source": [
        "for j in range(len(lv)):\n",
        "  yleft=y.subs(x, lv[j])\n",
        "  yright=y.subs(x, uv[j])\n",
        "  \n",
        "  print(\"For\",lv[j],uv[j])\n",
        "  # print the yleft and y right value\n",
        "  print(\"Evaluation if leftvalues:\", yleft)\n",
        "  print(\"Evaluation if rightvalues\", yright)\n",
        "\n",
        "  MaxMinArray = np.array([[int(lv[j]), yleft], [int(uv[j]), yright]])\n",
        "  # to calculate first order derivative and second order derivatives\n",
        "  expr=y.diff (x)\n",
        "  expr2=y.diff(x,2)\n",
        "\n",
        "  # to find the crtical value\n",
        "  cp=solvify(expr,x,S.Reals)\n",
        "  # To find the length of the crtical points\n",
        "\n",
        "  ncp=len(cp)\n",
        "  print(\"\\n Total number of critical points:\", ncp)\n",
        "  print(\"The critical points are :\", cp)\n",
        "\n",
        "  for i in range(ncp):\n",
        "    yv=y.subs(x,cp[i])\n",
        "    print(\"\\n For critical points: \", cp[i])\n",
        "    print(\"The associated y value:\", yv)\n",
        "    print(\"The point is :(\", cp[i],\",\",yv,\")\")\n",
        "    subV=expr2.subs(x,cp[i])\n",
        "\n",
        "    if (subV > 0):\n",
        "      print(\"The\", cp[i], \" is the local minimum\")\n",
        "      local_minima.append(cp[i])\n",
        "      ymini = y.subs (x, cp[i])\n",
        "      np_arr2=np.array([[cp[i], ymini]])\n",
        "      if(cp[1]==int(lv[j]) or cp[i]==int(uv[j])):\n",
        "        continue\n",
        "      MaxMinArray = np.append (MaxMinArray,np_arr2,axis=0)\n",
        "    elif (subV<0):\n",
        "      print(\"The\", cp[i], \"is the local maximal\" )\n",
        "      local_maxima.append(cp[i])\n",
        "      ymaxi = y.subs(x, cp[1])\n",
        "      np_arr2 = np.array([[cp[i], ymaxi] ])\n",
        "      if (cp[i]==int(lv[j]) or cp[i]==int (uv[j])):\n",
        "        continue\n",
        "      MaxMinArray= np.append(MaxMinArray, np_arr2, axis=0)\n",
        "    else:\n",
        "      print(\"The\", cp[i], \"Nothing to say\")\n",
        "  forIndex = MaxMinArray[ :, 1]\n",
        "  ind = np.where( forIndex == np.amin(forIndex))\n",
        "  print(\"\\n The global minima on [\", lv[j], \", \", uv[j], \"] is\\n\", MaxMinArray[ind, 1], \"at\", MaxMinArray[ind, 0])\n",
        "  global_minima.append(MaxMinArray[ind,1])\n",
        "  ind = np.where(forIndex == np.max(MaxMinArray[ : ,1]))\n",
        "  print(\"\\n The global maxima on [\", lv[j],\", \", uv[j], \"] is\\n\", MaxMinArray[ind, 1], \"at\", MaxMinArray[[ind, 0]],\"\\n\")\n",
        "  global_maxima.append(MaxMinArray[ind,1])\n",
        "\n",
        "\n",
        "\n",
        "import matplotlib.pyplot as plt\n",
        "y_maxima=[]\n",
        "y_minima=[]\n",
        "\n",
        "for k in range(len(global_maxima)):\n",
        "  y_minima.append(int(global_minima[k][0]))\n",
        "for k in range(len(global_maxima)):\n",
        "  y_maxima.append(int(global_maxima[k][0]))\n",
        "print(global_minima)\n",
        "print(global_maxima)\n",
        "\n",
        "\n",
        "\n",
        "plt.scatter(lv, y_minima)\n",
        "plt.scatter(uv, y_maxima)\n",
        "plt.xlabel('x - axis')\n",
        "plt.ylabel('y - axis')\n",
        "plt.title('global maxima and global minima for question 2')\n",
        "plt.show()\n",
        "\n",
        "import pandas as pd\n",
        "import numpy as np\n",
        "import seaborn as sns\n",
        "\n",
        "df_minima = pd.DataFrame({'x': lv,\n",
        "               'y': y_minima})\n",
        "\n",
        "df_maxima = pd.DataFrame({'x': uv,\n",
        "               'y': y_maxima})\n",
        "\n",
        "\n",
        "g = pd.plotting.scatter_matrix(df_minima, figsize=(10,10), marker = 'o', hist_kwds = {'bins': 10}, s = 60, alpha = 0.8)\n",
        "plt.title('global minima for question 2')\n",
        "\n",
        "t = pd.plotting.scatter_matrix(df_maxima, figsize=(10,10), marker = 'o', hist_kwds = {'bins': 10}, s = 60, alpha = 0.8)\n",
        "plt.title('global maxima for question 2')\n",
        "plt.show()"
      ],
      "execution_count": null,
      "outputs": [
        {
          "output_type": "stream",
          "name": "stdout",
          "text": [
            "For -10 10\n",
            "Evaluation if leftvalues: -10/101\n",
            "Evaluation if rightvalues 10/101\n",
            "\n",
            " Total number of critical points: 2\n",
            "The critical points are : [-1, 1]\n",
            "\n",
            " For critical points:  -1\n",
            "The associated y value: -1/2\n",
            "The point is :( -1 , -1/2 )\n",
            "The -1  is the local minimum\n",
            "\n",
            " For critical points:  1\n",
            "The associated y value: 1/2\n",
            "The point is :( 1 , 1/2 )\n",
            "The 1 is the local maximal\n",
            "\n",
            " The global minima on [ -10 ,  10 ] is\n",
            " [[-1/2]] at [[-1]]\n",
            "\n",
            " The global maxima on [ -10 ,  10 ] is\n",
            " [[1/2]] at [[1]] \n",
            "\n",
            "For -50 50\n",
            "Evaluation if leftvalues: -50/2501\n",
            "Evaluation if rightvalues 50/2501\n",
            "\n",
            " Total number of critical points: 2\n",
            "The critical points are : [-1, 1]\n",
            "\n",
            " For critical points:  -1\n",
            "The associated y value: -1/2\n",
            "The point is :( -1 , -1/2 )\n",
            "The -1  is the local minimum\n",
            "\n",
            " For critical points:  1\n",
            "The associated y value: 1/2\n",
            "The point is :( 1 , 1/2 )\n",
            "The 1 is the local maximal\n",
            "\n",
            " The global minima on [ -50 ,  50 ] is\n",
            " [[-1/2]] at [[-1]]\n",
            "\n",
            " The global maxima on [ -50 ,  50 ] is\n",
            " [[1/2]] at [[1]] \n",
            "\n",
            "For -75 75\n",
            "Evaluation if leftvalues: -75/5626\n",
            "Evaluation if rightvalues 75/5626\n",
            "\n",
            " Total number of critical points: 2\n",
            "The critical points are : [-1, 1]\n",
            "\n",
            " For critical points:  -1\n",
            "The associated y value: -1/2\n",
            "The point is :( -1 , -1/2 )\n",
            "The -1  is the local minimum\n",
            "\n",
            " For critical points:  1\n",
            "The associated y value: 1/2\n",
            "The point is :( 1 , 1/2 )\n",
            "The 1 is the local maximal\n",
            "\n",
            " The global minima on [ -75 ,  75 ] is\n",
            " [[-1/2]] at [[-1]]\n",
            "\n",
            " The global maxima on [ -75 ,  75 ] is\n",
            " [[1/2]] at [[1]] \n",
            "\n",
            "For -100 100\n",
            "Evaluation if leftvalues: -100/10001\n",
            "Evaluation if rightvalues 100/10001\n",
            "\n",
            " Total number of critical points: 2\n",
            "The critical points are : [-1, 1]\n",
            "\n",
            " For critical points:  -1\n",
            "The associated y value:"
          ]
        },
        {
          "output_type": "stream",
          "name": "stderr",
          "text": [
            "/usr/local/lib/python3.7/dist-packages/ipykernel_launcher.py:53: FutureWarning: Using a non-tuple sequence for multidimensional indexing is deprecated; use `arr[tuple(seq)]` instead of `arr[seq]`. In the future this will be interpreted as an array index, `arr[np.array(seq)]`, which will result either in an error or a different result.\n"
          ]
        },
        {
          "output_type": "stream",
          "name": "stdout",
          "text": [
            " -1/2\n",
            "The point is :( -1 , -1/2 )\n",
            "The -1  is the local minimum\n",
            "\n",
            " For critical points:  1\n",
            "The associated y value: 1/2\n",
            "The point is :( 1 , 1/2 )\n",
            "The 1 is the local maximal\n",
            "\n",
            " The global minima on [ -100 ,  100 ] is\n",
            " [[-1/2]] at [[-1]]\n",
            "\n",
            " The global maxima on [ -100 ,  100 ] is\n",
            " [[1/2]] at [[1]] \n",
            "\n",
            "For -200 200\n",
            "Evaluation if leftvalues: -200/40001\n",
            "Evaluation if rightvalues 200/40001\n",
            "\n",
            " Total number of critical points: 2\n",
            "The critical points are : [-1, 1]\n",
            "\n",
            " For critical points:  -1\n",
            "The associated y value: -1/2\n",
            "The point is :( -1 , -1/2 )\n",
            "The -1  is the local minimum\n",
            "\n",
            " For critical points:  1\n",
            "The associated y value: 1/2\n",
            "The point is :( 1 , 1/2 )\n",
            "The 1 is the local maximal\n",
            "\n",
            " The global minima on [ -200 ,  200 ] is\n",
            " [[-1/2]] at [[-1]]\n",
            "\n",
            " The global maxima on [ -200 ,  200 ] is\n",
            " [[1/2]] at [[1]] \n",
            "\n",
            "For -300 300\n",
            "Evaluation if leftvalues: -300/90001\n",
            "Evaluation if rightvalues 300/90001\n",
            "\n",
            " Total number of critical points: 2\n",
            "The critical points are : [-1, 1]\n",
            "\n",
            " For critical points:  -1\n",
            "The associated y value: -1/2\n",
            "The point is :( -1 , -1/2 )\n",
            "The -1  is the local minimum\n",
            "\n",
            " For critical points:  1\n",
            "The associated y value: 1/2\n",
            "The point is :( 1 , 1/2 )\n",
            "The 1 is the local maximal\n",
            "\n",
            " The global minima on [ -300 ,  300 ] is\n",
            " [[-1/2]] at [[-1]]\n",
            "\n",
            " The global maxima on [ -300 ,  300 ] is\n",
            " [[1/2]] at [[1]] \n",
            "\n",
            "For -400 400\n",
            "Evaluation if leftvalues: -400/160001\n",
            "Evaluation if rightvalues 400/160001\n",
            "\n",
            " Total number of critical points: 2\n",
            "The critical points are : [-1, 1]\n",
            "\n",
            " For critical points:  -1\n",
            "The associated y value: -1/2\n",
            "The point is :( -1 , -1/2 )\n",
            "The -1  is the local minimum\n",
            "\n",
            " For critical points:  1\n",
            "The associated y value: 1/2\n",
            "The point is :( 1 , 1/2 )\n",
            "The 1 is the local maximal\n",
            "\n",
            " The global minima on [ -400 ,  400 ] is\n",
            " [[-1/2]] at [[-1]]\n",
            "\n",
            " The global maxima on [ -400 ,  400 ] is\n",
            " [[1/2]] at [[1]] \n",
            "\n",
            "For -500 500\n",
            "Evaluation if leftvalues: -500/250001\n",
            "Evaluation if rightvalues 500/250001\n",
            "\n",
            " Total number of critical points: 2\n",
            "The critical points are : [-1, 1]\n",
            "\n",
            " For critical points:  -1\n",
            "The associated y value: -1/2\n",
            "The point is :( -1 , -1/2 )\n",
            "The -1  is the local minimum\n",
            "\n",
            " For critical points:  1\n",
            "The associated y value: 1/2\n",
            "The point is :( 1 , 1/2 )\n",
            "The 1 is the local maximal\n",
            "\n",
            " The global minima on [ -500 ,  500 ] is\n",
            " [[-1/2]] at [[-1]]\n",
            "\n",
            " The global maxima on [ -500 ,  500 ] is\n",
            " [[1/2]] at [[1]] \n",
            "\n",
            "For -750 750\n",
            "Evaluation if leftvalues: -750/562501\n",
            "Evaluation if rightvalues 750/562501\n",
            "\n",
            " Total number of critical points: 2\n",
            "The critical points are : [-1, 1]\n",
            "\n",
            " For critical points:  -1\n",
            "The associated y value: -1/2\n",
            "The point is :( -1 , -1/2 )\n",
            "The -1  is the local minimum\n",
            "\n",
            " For critical points:  1\n",
            "The associated y value: 1/2\n",
            "The point is :( 1 , 1/2 )\n",
            "The 1 is the local maximal\n",
            "\n",
            " The global minima on [ -750 ,  750 ] is\n",
            " [[-1/2]] at [[-1]]\n",
            "\n",
            " The global maxima on [ -750 ,  750 ] is\n",
            " [[1/2]] at [[1]] \n",
            "\n",
            "For -800 800\n",
            "Evaluation if leftvalues: -800/640001\n",
            "Evaluation if rightvalues 800/640001\n",
            "\n",
            " Total number of critical points: 2\n",
            "The critical points are : [-1, 1]\n",
            "\n",
            " For critical points:  -1\n",
            "The associated y value: -1/2\n",
            "The point is :( -1 , -1/2 )\n",
            "The -1  is the local minimum\n",
            "\n",
            " For critical points:  1\n",
            "The associated y value: 1/2\n",
            "The point is :( 1 , 1/2 )\n",
            "The 1 is the local maximal\n",
            "\n",
            " The global minima on [ -800 ,  800 ] is\n",
            " [[-1/2]] at [[-1]]\n",
            "\n",
            " The global maxima on [ -800 ,  800 ] is\n",
            " [[1/2]] at [[1]] \n",
            "\n",
            "For -900 900\n",
            "Evaluation if leftvalues: -900/810001\n",
            "Evaluation if rightvalues 900/810001\n",
            "\n",
            " Total number of critical points: 2\n",
            "The critical points are : [-1, 1]\n",
            "\n",
            " For critical points:  -1\n",
            "The associated y value: -1/2\n",
            "The point is :( -1 , -1/2 )\n",
            "The -1  is the local minimum\n",
            "\n",
            " For critical points:  1\n",
            "The associated y value: 1/2\n",
            "The point is :( 1 , 1/2 )\n",
            "The 1 is the local maximal\n",
            "\n",
            " The global minima on [ -900 ,  900 ] is\n",
            " [[-1/2]] at [[-1]]\n",
            "\n",
            " The global maxima on [ -900 ,  900 ] is\n",
            " [[1/2]] at [[1]] \n",
            "\n",
            "For -1000 1000\n",
            "Evaluation if leftvalues: -1000/1000001\n",
            "Evaluation if rightvalues 1000/1000001\n",
            "\n",
            " Total number of critical points: 2\n",
            "The critical points are : [-1, 1]\n",
            "\n",
            " For critical points:  -1\n",
            "The associated y value: -1/2\n",
            "The point is :( -1 , -1/2 )\n",
            "The -1  is the local minimum\n",
            "\n",
            " For critical points:  1\n",
            "The associated y value: 1/2\n",
            "The point is :( 1 , 1/2 )\n",
            "The 1 is the local maximal\n",
            "\n",
            " The global minima on [ -1000 ,  1000 ] is\n",
            " [[-1/2]] at [[-1]]\n",
            "\n",
            " The global maxima on [ -1000 ,  1000 ] is\n",
            " [[1/2]] at [[1]] \n",
            "\n",
            "[array([[-1/2]], dtype=object), array([[-1/2]], dtype=object), array([[-1/2]], dtype=object), array([[-1/2]], dtype=object), array([[-1/2]], dtype=object), array([[-1/2]], dtype=object), array([[-1/2]], dtype=object), array([[-1/2]], dtype=object), array([[-1/2]], dtype=object), array([[-1/2]], dtype=object), array([[-1/2]], dtype=object), array([[-1/2]], dtype=object)]\n",
            "[array([[1/2]], dtype=object), array([[1/2]], dtype=object), array([[1/2]], dtype=object), array([[1/2]], dtype=object), array([[1/2]], dtype=object), array([[1/2]], dtype=object), array([[1/2]], dtype=object), array([[1/2]], dtype=object), array([[1/2]], dtype=object), array([[1/2]], dtype=object), array([[1/2]], dtype=object), array([[1/2]], dtype=object)]\n"
          ]
        },
        {
          "output_type": "display_data",
          "data": {
            "image/png": "[encoded data removed]",
            "text/plain": [
              "<Figure size 432x288 with 1 Axes>"
            ]
          },
          "metadata": {
            "needs_background": "light"
          }
        },
        {
          "output_type": "stream",
          "name": "stderr",
          "text": [
            "/usr/local/lib/python3.7/dist-packages/pandas/plotting/_matplotlib/misc.py:80: UserWarning: Attempting to set identical left == right == 0.0 results in singular transformations; automatically expanding.\n",
            "  ax.set_xlim(boundaries_list[j])\n",
            "/usr/local/lib/python3.7/dist-packages/pandas/plotting/_matplotlib/misc.py:81: UserWarning: Attempting to set identical bottom == top == 0.0 results in singular transformations; automatically expanding.\n",
            "  ax.set_ylim(boundaries_list[i])\n",
            "/usr/local/lib/python3.7/dist-packages/pandas/plotting/_matplotlib/misc.py:71: UserWarning: Attempting to set identical left == right == 0.0 results in singular transformations; automatically expanding.\n",
            "  ax.set_xlim(boundaries_list[i])\n"
          ]
        },
        {
          "output_type": "display_data",
          "data": {
            "image/png": "[encoded data removed]",
            "text/plain": [
              "<Figure size 720x720 with 4 Axes>"
            ]
          },
          "metadata": {
            "needs_background": "light"
          }
        },
        {
          "output_type": "display_data",
          "data": {
            "image/png": "[encoded data removed]",
            "text/plain": [
              "<Figure size 720x720 with 4 Axes>"
            ]
          },
          "metadata": {
            "needs_background": "light"
          }
        }
      ]
    },
    {
      "cell_type": "code",
      "metadata": {
        "id": "xT5_9czZEjw2"
      },
      "source": [
        "#Defining variables and function\n",
        "x,y = symbols('x y')\n",
        "f = x**3 - 9*x**2 - 48*x + 52"
      ],
      "execution_count": null,
      "outputs": []
    },
    {
      "cell_type": "code",
      "metadata": {
        "colab": {
          "base_uri": "https://localhost:8080/"
        },
        "id": "BhBRWC6wEqcP",
        "outputId": "24b6ddf4-7040-4666-9ac5-6c57fda0b648"
      },
      "source": [
        "for i in range(15):\n",
        "  #Entering intervals\n",
        "  lv = input(\"Enter Lower val:\" )\n",
        "  up = input(\"Enter Upper val: \")\n",
        "\n",
        "  #evaluating values at intervals\n",
        "  fleft = f.subs(x,lv)\n",
        "  print(\"Lower Value: \", fleft)\n",
        "  fright = f.subs(x,up)\n",
        "  print(\"Upper Value: \", fright)\n",
        "\n",
        "  Arr2 = np.array([[int(lv), fleft],[int(up), fright]])\n",
        "  \n",
        "  #Derivatives\n",
        "  expr1 = f.diff(x)\n",
        "  expr2 = f.diff(x,2)\n",
        "\n",
        "\n",
        "  #Calculating critical points\n",
        "  cp2 = solvify(expr1,x,S.Reals)\n",
        "\n",
        "  ncp2 = len(cp2)\n",
        "\n",
        "  print(\"The number of critical points are : \", ncp2)\n",
        "  print(\"The critical points are : \", cp2)\n",
        "\n",
        "\n",
        "  #Calculating local maxima and minima\n",
        "  for i in range(ncp2):\n",
        "    fv = f.subs(x,cp2[i])\n",
        "    print(\"\\n For critical points: \", cp2[i])\n",
        "    print(\"The associated f value:\", fv)\n",
        "    print(\"The point is :(\", cp2[i],\",\",fv,\")\")\n",
        "\n",
        "    subV2 = expr2.subs(x,cp2[i])\n",
        "\n",
        "    #For minima\n",
        "    if(subV2 >0):\n",
        "      fmin1 = f.subs(x,cp2[i])\n",
        "      print(\"The\", cp2[i], \" is the local minimum\")\n",
        "      np_arr2 = np.array([[cp2[i],fmin1]])\n",
        "      if(cp2[i]==int(lv)or cp2[i]==int(up)):\n",
        "        continue\n",
        "      Arr2 = np.append(Arr2,np_arr2, axis = 0)\n",
        "     \n",
        "    #For Maxima\n",
        "    elif(subV2<0):\n",
        "      fmax1 =f.subs(x,cp2[i])\n",
        "      print(\"The\", cp2[i], \"is the local maximum\" )\n",
        "      np_arr2 = np.array([[cp2[i],fmax1]])\n",
        "\n",
        "      if (cp2[i]==int(lv) or cp2[i]==int(up)):\n",
        "        continue\n",
        "\n",
        "      Arr2 = np.append(Arr2, np_arr2, axis =0)\n",
        "\n",
        "    else:\n",
        "      print(\"The\", cp2[i], \"Nothing to say\")\n",
        "\n",
        "  #Finding Global \n",
        "  forIndex = Arr2[:,1]\n",
        "\n",
        "  #Global Minima\n",
        "  ind = np.where(forIndex==np.amin(forIndex))\n",
        "  print(\"\\n The global minima on [\", lv, \",\", up,\"] is \\n\", Arr2[ind,1], \"at\", Arr2[ind,0])\n",
        " \n",
        "  #Global Maxima \n",
        "  ind = np.where(forIndex==np.max(Arr2[:,1]))\n",
        "  print(\"\\n The global maxima on [\", lv, \",\", up,\"] is \\n\", Arr2[ind,1], \"at\", Arr2[ind,0])4"
      ],
      "execution_count": null,
      "outputs": [
        {
          "output_type": "stream",
          "name": "stdout",
          "text": [
            "Enter Lower val:-2\n",
            "Enter Upper val: 2\n",
            "Lower Value:  104\n",
            "Upper Value:  -72\n",
            "The number of critical points are :  2\n",
            "The critical points are :  [-2, 8]\n",
            "\n",
            " For critical points:  -2\n",
            "The associated f value: 104\n",
            "The point is :( -2 , 104 )\n",
            "The -2 is the local maximum\n",
            "\n",
            " For critical points:  8\n",
            "The associated f value: -396\n",
            "The point is :( 8 , -396 )\n",
            "The 8  is the local minimum\n",
            "\n",
            " The global minima on [ -2 , 2 ] is \n",
            " [[-396]] at [[8]]\n",
            "\n",
            " The global maxima on [ -2 , 2 ] is \n",
            " [[104]] at [[-2]]\n",
            "Enter Lower val:88\n",
            "Enter Upper val: -146\n",
            "Lower Value:  607604\n",
            "Upper Value:  -3296920\n",
            "The number of critical points are :  2\n",
            "The critical points are :  [-2, 8]\n",
            "\n",
            " For critical points:  -2\n",
            "The associated f value: 104\n",
            "The point is :( -2 , 104 )\n",
            "The -2 is the local maximum\n",
            "\n",
            " For critical points:  8\n",
            "The associated f value: -396\n",
            "The point is :( 8 , -396 )\n",
            "The 8  is the local minimum\n",
            "\n",
            " The global minima on [ 88 , -146 ] is \n",
            " [[-3296920]] at [[-146]]\n",
            "\n",
            " The global maxima on [ 88 , -146 ] is \n",
            " [[607604]] at [[88]]\n",
            "Enter Lower val:-5\n",
            "Enter Upper val: 5\n",
            "Lower Value:  -58\n",
            "Upper Value:  -288\n",
            "The number of critical points are :  2\n",
            "The critical points are :  [-2, 8]\n",
            "\n",
            " For critical points:  -2\n",
            "The associated f value: 104\n",
            "The point is :( -2 , 104 )\n",
            "The -2 is the local maximum\n",
            "\n",
            " For critical points:  8\n",
            "The associated f value: -396\n",
            "The point is :( 8 , -396 )\n",
            "The 8  is the local minimum\n",
            "\n",
            " The global minima on [ -5 , 5 ] is \n",
            " [[-396]] at [[8]]\n",
            "\n",
            " The global maxima on [ -5 , 5 ] is \n",
            " [[104]] at [[-2]]\n",
            "Enter Lower val:-10\n",
            "Enter Upper val: 10\n",
            "Lower Value:  -1368\n",
            "Upper Value:  -328\n",
            "The number of critical points are :  2\n",
            "The critical points are :  [-2, 8]\n",
            "\n",
            " For critical points:  -2\n",
            "The associated f value: 104\n",
            "The point is :( -2 , 104 )\n",
            "The -2 is the local maximum\n",
            "\n",
            " For critical points:  8\n",
            "The associated f value: -396\n",
            "The point is :( 8 , -396 )\n",
            "The 8  is the local minimum\n",
            "\n",
            " The global minima on [ -10 , 10 ] is \n",
            " [[-1368]] at [[-10]]\n",
            "\n",
            " The global maxima on [ -10 , 10 ] is \n",
            " [[104]] at [[-2]]\n",
            "Enter Lower val:-50\n",
            "Enter Upper val: 60\n",
            "Lower Value:  -145048\n",
            "Upper Value:  180772\n",
            "The number of critical points are :  2\n",
            "The critical points are :  [-2, 8]\n",
            "\n",
            " For critical points:  -2\n",
            "The associated f value: 104\n",
            "The point is :( -2 , 104 )\n",
            "The -2 is the local maximum\n",
            "\n",
            " For critical points:  8\n",
            "The associated f value: -396\n",
            "The point is :( 8 , -396 )\n",
            "The 8  is the local minimum\n",
            "\n",
            " The global minima on [ -50 , 60 ] is \n",
            " [[-145048]] at [[-50]]\n",
            "\n",
            " The global maxima on [ -50 , 60 ] is \n",
            " [[180772]] at [[60]]\n",
            "Enter Lower val:-75\n",
            "Enter Upper val: 75\n",
            "Lower Value:  -468848\n",
            "Upper Value:  367702\n",
            "The number of critical points are :  2\n",
            "The critical points are :  [-2, 8]\n",
            "\n",
            " For critical points:  -2\n",
            "The associated f value: 104\n",
            "The point is :( -2 , 104 )\n",
            "The -2 is the local maximum\n",
            "\n",
            " For critical points:  8\n",
            "The associated f value: -396\n",
            "The point is :( 8 , -396 )\n",
            "The 8  is the local minimum\n",
            "\n",
            " The global minima on [ -75 , 75 ] is \n",
            " [[-468848]] at [[-75]]\n",
            "\n",
            " The global maxima on [ -75 , 75 ] is \n",
            " [[367702]] at [[75]]\n",
            "Enter Lower val:-100\n",
            "Enter Upper val: 100\n",
            "Lower Value:  -1085148\n",
            "Upper Value:  905252\n",
            "The number of critical points are :  2\n",
            "The critical points are :  [-2, 8]\n",
            "\n",
            " For critical points:  -2\n",
            "The associated f value: 104\n",
            "The point is :( -2 , 104 )\n",
            "The -2 is the local maximum\n",
            "\n",
            " For critical points:  8\n",
            "The associated f value: -396\n",
            "The point is :( 8 , -396 )\n",
            "The 8  is the local minimum\n",
            "\n",
            " The global minima on [ -100 , 100 ] is \n",
            " [[-1085148]] at [[-100]]\n",
            "\n",
            " The global maxima on [ -100 , 100 ] is \n",
            " [[905252]] at [[100]]\n",
            "Enter Lower val:-200\n",
            "Enter Upper val: 200\n",
            "Lower Value:  -8350348\n",
            "Upper Value:  7630452\n",
            "The number of critical points are :  2\n",
            "The critical points are :  [-2, 8]\n",
            "\n",
            " For critical points:  -2\n",
            "The associated f value: 104\n",
            "The point is :( -2 , 104 )\n",
            "The -2 is the local maximum\n",
            "\n",
            " For critical points:  8\n",
            "The associated f value: -396\n",
            "The point is :( 8 , -396 )\n",
            "The 8  is the local minimum\n",
            "\n",
            " The global minima on [ -200 , 200 ] is \n",
            " [[-8350348]] at [[-200]]\n",
            "\n",
            " The global maxima on [ -200 , 200 ] is \n",
            " [[7630452]] at [[200]]\n",
            "Enter Lower val:-300\n",
            "Enter Upper val: 300\n",
            "Lower Value:  -27795548\n",
            "Upper Value:  26175652\n",
            "The number of critical points are :  2\n",
            "The critical points are :  [-2, 8]\n",
            "\n",
            " For critical points:  -2\n",
            "The associated f value: 104\n",
            "The point is :( -2 , 104 )\n",
            "The -2 is the local maximum\n",
            "\n",
            " For critical points:  8\n",
            "The associated f value: -396\n",
            "The point is :( 8 , -396 )\n",
            "The 8  is the local minimum\n",
            "\n",
            " The global minima on [ -300 , 300 ] is \n",
            " [[-27795548]] at [[-300]]\n",
            "\n",
            " The global maxima on [ -300 , 300 ] is \n",
            " [[26175652]] at [[300]]\n",
            "Enter Lower val:-400\n",
            "Enter Upper val: 400\n",
            "Lower Value:  -65420748\n",
            "Upper Value:  62540852\n",
            "The number of critical points are :  2\n",
            "The critical points are :  [-2, 8]\n",
            "\n",
            " For critical points:  -2\n",
            "The associated f value: 104\n",
            "The point is :( -2 , 104 )\n",
            "The -2 is the local maximum\n",
            "\n",
            " For critical points:  8\n",
            "The associated f value: -396\n",
            "The point is :( 8 , -396 )\n",
            "The 8  is the local minimum\n",
            "\n",
            " The global minima on [ -400 , 400 ] is \n",
            " [[-65420748]] at [[-400]]\n",
            "\n",
            " The global maxima on [ -400 , 400 ] is \n",
            " [[62540852]] at [[400]]\n",
            "Enter Lower val:-500\n",
            "Enter Upper val: 500\n",
            "Lower Value:  -127225948\n",
            "Upper Value:  122726052\n",
            "The number of critical points are :  2\n",
            "The critical points are :  [-2, 8]\n",
            "\n",
            " For critical points:  -2\n",
            "The associated f value: 104\n",
            "The point is :( -2 , 104 )\n",
            "The -2 is the local maximum\n",
            "\n",
            " For critical points:  8\n",
            "The associated f value: -396\n",
            "The point is :( 8 , -396 )\n",
            "The 8  is the local minimum\n",
            "\n",
            " The global minima on [ -500 , 500 ] is \n",
            " [[-127225948]] at [[-500]]\n",
            "\n",
            " The global maxima on [ -500 , 500 ] is \n",
            " [[122726052]] at [[500]]\n",
            "Enter Lower val:-750\n",
            "Enter Upper val: 750\n",
            "Lower Value:  -426901448\n",
            "Upper Value:  416776552\n",
            "The number of critical points are :  2\n",
            "The critical points are :  [-2, 8]\n",
            "\n",
            " For critical points:  -2\n",
            "The associated f value: 104\n",
            "The point is :( -2 , 104 )\n",
            "The -2 is the local maximum\n",
            "\n",
            " For critical points:  8\n",
            "The associated f value: -396\n",
            "The point is :( 8 , -396 )\n",
            "The 8  is the local minimum\n",
            "\n",
            " The global minima on [ -750 , 750 ] is \n",
            " [[-426901448]] at [[-750]]\n",
            "\n",
            " The global maxima on [ -750 , 750 ] is \n",
            " [[416776552]] at [[750]]\n",
            "Enter Lower val:-800\n",
            "Enter Upper val: 800\n",
            "Lower Value:  -517721548\n",
            "Upper Value:  506201652\n",
            "The number of critical points are :  2\n",
            "The critical points are :  [-2, 8]\n",
            "\n",
            " For critical points:  -2\n",
            "The associated f value: 104\n",
            "The point is :( -2 , 104 )\n",
            "The -2 is the local maximum\n",
            "\n",
            " For critical points:  8\n",
            "The associated f value: -396\n",
            "The point is :( 8 , -396 )\n",
            "The 8  is the local minimum\n",
            "\n",
            " The global minima on [ -800 , 800 ] is \n",
            " [[-517721548]] at [[-800]]\n",
            "\n",
            " The global maxima on [ -800 , 800 ] is \n",
            " [[506201652]] at [[800]]\n",
            "Enter Lower val:-900\n",
            "Enter Upper val: 900\n",
            "Lower Value:  -736246748\n",
            "Upper Value:  721666852\n",
            "The number of critical points are :  2\n",
            "The critical points are :  [-2, 8]\n",
            "\n",
            " For critical points:  -2\n",
            "The associated f value: 104\n",
            "The point is :( -2 , 104 )\n",
            "The -2 is the local maximum\n",
            "\n",
            " For critical points:  8\n",
            "The associated f value: -396\n",
            "The point is :( 8 , -396 )\n",
            "The 8  is the local minimum\n",
            "\n",
            " The global minima on [ -900 , 900 ] is \n",
            " [[-736246748]] at [[-900]]\n",
            "\n",
            " The global maxima on [ -900 , 900 ] is \n",
            " [[721666852]] at [[900]]\n",
            "Enter Lower val:-1000\n",
            "Enter Upper val: 1000\n",
            "Lower Value:  -1008951948\n",
            "Upper Value:  990952052\n",
            "The number of critical points are :  2\n",
            "The critical points are :  [-2, 8]\n",
            "\n",
            " For critical points:  -2\n",
            "The associated f value: 104\n",
            "The point is :( -2 , 104 )\n",
            "The -2 is the local maximum\n",
            "\n",
            " For critical points:  8\n",
            "The associated f value: -396\n",
            "The point is :( 8 , -396 )\n",
            "The 8  is the local minimum\n",
            "\n",
            " The global minima on [ -1000 , 1000 ] is \n",
            " [[-1008951948]] at [[-1000]]\n",
            "\n",
            " The global maxima on [ -1000 , 1000 ] is \n",
            " [[990952052]] at [[1000]]\n"
          ]
        }
      ]
    },
    {
      "cell_type": "code",
      "metadata": {
        "colab": {
          "base_uri": "https://localhost:8080/",
          "height": 295
        },
        "id": "-nxkzB3IErAe",
        "outputId": "49c90d79-4587-45ca-f4af-a98f9abd6311"
      },
      "source": [
        "import matplotlib.pyplot as plt\n",
        " \n",
        "# x-axis values\n",
        "x = [-1000,1000]\n",
        "# y-axis values\n",
        "y = [-2,-2]\n",
        " \n",
        "# plotting points as a scatter plot\n",
        "plt.scatter(x, y, label= \"stars\", color= \"green\",\n",
        "            marker= \"*\", s=30)\n",
        " \n",
        "# x-axis label\n",
        "plt.xlabel('x - axis')\n",
        "# frequency label\n",
        "plt.ylabel('y - axis')\n",
        "# plot title\n",
        "plt.title('local maxima')\n",
        "# showing legend\n",
        "plt.legend()\n",
        " \n",
        "# function to show the plot\n",
        "plt.show()"
      ],
      "execution_count": null,
      "outputs": [
        {
          "output_type": "display_data",
          "data": {
            "image/png": "[encoded data removed]",
            "text/plain": [
              "<Figure size 432x288 with 1 Axes>"
            ]
          },
          "metadata": {
            "needs_background": "light"
          }
        }
      ]
    },
    {
      "cell_type": "code",
      "metadata": {
        "colab": {
          "base_uri": "https://localhost:8080/",
          "height": 295
        },
        "id": "h2BackJOFsZA",
        "outputId": "56d35e8a-800e-459e-9600-ad4fac11183f"
      },
      "source": [
        "import matplotlib.pyplot as plt\n",
        " \n",
        "# x-axis values\n",
        "x = [2,3,5,10,50,75,100,200,300,400,500,750,800,900,1000]\n",
        "# y-axis values\n",
        "y = [104,104,104,104,100152,367702,905252,7630452,26175652,62540852,122726052,416776552,506201652,721666852,990952052]\n",
        " \n",
        "# plotting points as a scatter plot\n",
        "plt.scatter(x, y, label= \"stars\", color= \"green\",\n",
        "            marker= \"*\", s=30)\n",
        " \n",
        "# x-axis label\n",
        "plt.xlabel('x - axis')\n",
        "# frequency label\n",
        "plt.ylabel('y - axis')\n",
        "# plot title\n",
        "plt.title('global maxima')\n",
        "# showing legend\n",
        "plt.legend()\n",
        " \n",
        "# function to show the plot\n",
        "plt.show()"
      ],
      "execution_count": null,
      "outputs": [
        {
          "output_type": "display_data",
          "data": {
            "image/png": "[encoded data removed]",
            "text/plain": [
              "<Figure size 432x288 with 1 Axes>"
            ]
          },
          "metadata": {
            "needs_background": "light"
          }
        }
      ]
    },
    {
      "cell_type": "code",
      "metadata": {
        "colab": {
          "base_uri": "https://localhost:8080/",
          "height": 350
        },
        "id": "H_S7gFhXFuS3",
        "outputId": "bad28d95-3c98-44c0-f38f-de27c08e2c66"
      },
      "source": [
        "import numpy as np\n",
        "import matplotlib.pyplot as plt\n",
        "#All the critical points are duplicates\n",
        "xloc=[-2,2,-1,-3,3,-1,-5,5,-1,-10,10,-1,-50,50,-1]\n",
        "yloc=[-2/5,2/5,-1/2,-3/10,3/10,-1/2,-5/26,5/26,-1/2,\n",
        "      -10/101,10/101,-1/2,-50/2501,50/2501,-1/2]\n",
        "fig = plt.figure(figsize = (10, 5))\n",
        " \n",
        "# creating the bar plot\n",
        "plt.bar(xloc, yloc, color ='blue',width = 0.1)\n",
        "\n",
        "plt.xlabel(\"Critical points\")\n",
        "plt.ylabel(\"Local Extremum values\")\n",
        "plt.title(\"Local Extremum plot :\")\n",
        "plt.show()"
      ],
      "execution_count": null,
      "outputs": [
        {
          "output_type": "display_data",
          "data": {
            "image/png": "[encoded data removed]",
            "text/plain": [
              "<Figure size 720x360 with 1 Axes>"
            ]
          },
          "metadata": {
            "needs_background": "light"
          }
        }
      ]
    },
    {
      "cell_type": "code",
      "metadata": {
        "colab": {
          "base_uri": "https://localhost:8080/"
        },
        "id": "NLfjoKoyFzcv",
        "outputId": "2e4767e7-d038-42cd-cad9-aada2bba4763"
      },
      "source": [
        "#Question 3\n",
        "import numpy as np\n",
        "from sympy import*\n",
        "from sympy . solvers. solveset import solvify, solveset\n",
        "# define symbols only\n",
        "x,y = symbols('x y')\n",
        "\n",
        "# define the function_\n",
        "y=((9-x)*x**2)/10\n",
        "# define the lower interval value and upper interval value\n",
        "lv=[-10,-50,-75,-100,-200,-300,-400,-500,-750,-800,-900,-1000]\n",
        "uv=[10,50,75,100,200,300,400,500,750,800,900,1000]\n",
        "local_minima=[]\n",
        "local_maxima=[]\n",
        "global_minima=[]\n",
        "global_maxima=[]\n",
        "\n",
        "# the value of y on the extreme interval value\n",
        "for j in range(len(lv)):\n",
        "  yleft=y.subs(x, lv[j])\n",
        "  yright=y.subs(x, uv[j])\n",
        "  \n",
        "  print(\"For\",lv[j],uv[j])\n",
        "  # print the yleft and y right value\n",
        "  print(\"Evaluation if leftvalues:\", yleft)\n",
        "  print(\"Evaluation if rightvalues\", yright)\n",
        "\n",
        "  MaxMinArray = np.array([[int(lv[j]), yleft], [int(uv[j]), yright]])\n",
        "  # to calculate first order derivative and second order derivatives\n",
        "  expr=y.diff (x)\n",
        "  expr2=y.diff(x,2)\n",
        "\n",
        "  # to find the crtical value\n",
        "  cp=solvify(expr,x,S.Reals)\n",
        "  # To find the length of the crtical points\n",
        "\n",
        "  ncp=len(cp)\n",
        "  print(\"\\n Total number of critical points:\", ncp)\n",
        "  print(\"The critical points are :\", cp)\n",
        "\n",
        "  for i in range(ncp):\n",
        "    yv=y.subs(x,cp[i])\n",
        "    print(\"\\n For critical points: \", cp[i])\n",
        "    print(\"The associated y value:\", yv)\n",
        "    print(\"The point is :(\", cp[i],\",\",yv,\")\")\n",
        "    subV=expr2.subs(x,cp[i])\n",
        "\n",
        "    if (subV > 0):\n",
        "      print(\"The\", cp[i], \" is the local minimum\")\n",
        "      local_minima.append(cp[i])\n",
        "      ymini = y.subs (x, cp[i])\n",
        "      np_arr2=np.array([[cp[i], ymini]])\n",
        "      if(cp[1]==int(lv[j]) or cp[i]==int(uv[j])):\n",
        "        continue\n",
        "      MaxMinArray = np.append (MaxMinArray,np_arr2,axis=0)\n",
        "    elif (subV<0):\n",
        "      print(\"The\", cp[i], \"is the local maximal\" )\n",
        "      local_maxima.append(cp[i])\n",
        "      ymaxi = y.subs(x, cp[1])\n",
        "      np_arr2 = np.array([[cp[i], ymaxi] ])\n",
        "      if (cp[i]==int(lv[j]) or cp[i]==int (uv[j])):\n",
        "        continue\n",
        "      MaxMinArray= np.append(MaxMinArray, np_arr2, axis=0)\n",
        "    else:\n",
        "      print(\"The\", cp[i], \"Nothing to say\")\n",
        "  forIndex = MaxMinArray[ :, 1]\n",
        "  ind = np.where( forIndex == np.amin(forIndex))\n",
        "  print(\"\\n The global minima on [\", lv[j], \", \", uv[j], \"] is\\n\", MaxMinArray[ind, 1], \"at\", MaxMinArray[ind, 0])\n",
        "  global_minima.append(MaxMinArray[ind,1])\n",
        "  ind = np.where(forIndex == np.max(MaxMinArray[ : ,1]))\n",
        "  print(\"\\n The global maxima on [\", lv[j],\", \", uv[j], \"] is\\n\", MaxMinArray[ind, 1], \"at\", MaxMinArray[[ind, 0]],\"\\n\")\n",
        "  global_maxima.append(MaxMinArray[ind,1])"
      ],
      "execution_count": null,
      "outputs": [
        {
          "output_type": "stream",
          "name": "stdout",
          "text": [
            "For -10 10\n",
            "Evaluation if leftvalues: 190\n",
            "Evaluation if rightvalues -10\n",
            "\n",
            " Total number of critical points: 2\n",
            "The critical points are : [0, 6]\n",
            "\n",
            " For critical points:  0\n",
            "The associated y value: 0\n",
            "The point is :( 0 , 0 )\n",
            "The 0  is the local minimum\n",
            "\n",
            " For critical points:  6\n",
            "The associated y value: 54/5\n",
            "The point is :( 6 , 54/5 )\n",
            "The 6 is the local maximal\n",
            "\n",
            " The global minima on [ -10 ,  10 ] is\n",
            " [[-10]] at [[10]]\n",
            "\n",
            " The global maxima on [ -10 ,  10 ] is\n",
            " [[190]] at [[-10]] \n",
            "\n",
            "For -50 50\n",
            "Evaluation if leftvalues: 14750\n",
            "Evaluation if rightvalues -10250\n",
            "\n",
            " Total number of critical points: 2\n",
            "The critical points are : [0, 6]\n",
            "\n",
            " For critical points:  0\n",
            "The associated y value: 0\n",
            "The point is :( 0 , 0 )\n",
            "The 0  is the local minimum\n",
            "\n",
            " For critical points:  6\n",
            "The associated y value: 54/5\n",
            "The point is :( 6 , 54/5 )\n",
            "The 6 is the local maximal\n",
            "\n",
            " The global minima on [ -50 ,  50 ] is\n",
            " [[-10250]] at [[50]]\n",
            "\n",
            " The global maxima on [ -50 ,  50 ] is\n",
            " [[14750]] at [[-50]] \n",
            "\n",
            "For -75 75\n",
            "Evaluation if leftvalues: 47250\n",
            "Evaluation if rightvalues -37125\n",
            "\n",
            " Total number of critical points: 2\n",
            "The critical points are : [0, 6]\n",
            "\n",
            " For critical points:  0\n",
            "The associated y value: 0\n",
            "The point is :( 0 , 0 )\n",
            "The 0  is the local minimum\n",
            "\n",
            " For critical points:  6\n",
            "The associated y value: 54/5\n",
            "The point is :( 6 , 54/5 )\n",
            "The 6 is the local maximal\n",
            "\n",
            " The global minima on [ -75 ,  75 ] is\n",
            " [[-37125]] at [[75]]\n",
            "\n",
            " The global maxima on [ -75 ,  75 ] is\n",
            " [[47250]] at [[-75]] \n",
            "\n",
            "For -100 100\n",
            "Evaluation if leftvalues: 109000\n",
            "Evaluation if rightvalues -91000\n",
            "\n",
            " Total number of critical points: 2\n",
            "The critical points are : [0, 6]\n",
            "\n",
            " For critical points:  0\n",
            "The associated y value: 0\n",
            "The point is :( 0 , 0 )\n",
            "The 0  is the local minimum\n",
            "\n",
            " For critical points:  6\n",
            "The associated y value: 54/5\n",
            "The point is :( 6 , 54/5 )\n",
            "The 6 is the local maximal\n",
            "\n",
            " The global minima on [ -100 ,  100 ] is\n",
            " [[-91000]] at [[100]]\n",
            "\n",
            " The global maxima on [ -100 ,  100 ] is\n",
            " [[109000]] at [[-100]] \n",
            "\n",
            "For -200 200\n",
            "Evaluation if leftvalues: 836000\n",
            "Evaluation if rightvalues -764000\n",
            "\n",
            " Total number of critical points: 2\n",
            "The critical points are : [0, 6]\n",
            "\n",
            " For critical points:  0\n",
            "The associated y value: 0\n",
            "The point is :( 0 , 0 )\n",
            "The 0  is the local minimum\n",
            "\n",
            " For critical points:  6\n",
            "The associated y value: 54/5\n",
            "The point is :( 6 , 54/5 )\n",
            "The 6 is the local maximal\n",
            "\n",
            " The global minima on [ -200 ,  200 ] is\n",
            " [[-764000]] at [[200]]\n",
            "\n",
            " The global maxima on [ -200 ,  200 ] is\n",
            " [[836000]] at [[-200]] \n",
            "\n",
            "For -300 300\n",
            "Evaluation if leftvalues: 2781000\n",
            "Evaluation if rightvalues -2619000\n",
            "\n",
            " Total number of critical points: 2\n",
            "The critical points are : [0, 6]\n",
            "\n",
            " For critical points:  0\n",
            "The associated y value: 0\n",
            "The point is :( 0 , 0 )\n",
            "The 0  is the local minimum\n",
            "\n",
            " For critical points:  6\n",
            "The associated y value: 54/5\n",
            "The point is :( 6 , 54/5 )\n",
            "The 6 is the local maximal\n",
            "\n",
            " The global minima on [ -300 ,  300 ] is\n",
            " [[-2619000]] at [[300]]\n",
            "\n",
            " The global maxima on [ -300 ,  300 ] is\n",
            " [[2781000]] at [[-300]] \n",
            "\n",
            "For -400 400\n",
            "Evaluation if leftvalues: 6544000\n",
            "Evaluation if rightvalues -6256000\n",
            "\n",
            " Total number of critical points: 2\n",
            "The critical points are : [0, 6]\n",
            "\n",
            " For critical points:  0\n",
            "The associated y value: 0\n",
            "The point is :( 0 , 0 )\n",
            "The 0  is the local minimum\n",
            "\n",
            " For critical points:  6\n",
            "The associated y value: 54/5\n",
            "The point is :( 6 , 54/5 )\n",
            "The 6 is the local maximal\n",
            "\n",
            " The global minima on [ -400 ,  400 ] is\n",
            " [[-6256000]] at [[400]]\n",
            "\n",
            " The global maxima on [ -400 ,  400 ] is\n",
            " [[6544000]] at [[-400]] \n",
            "\n",
            "For -500 500\n",
            "Evaluation if leftvalues: 12725000\n",
            "Evaluation if rightvalues -12275000\n",
            "\n",
            " Total number of critical points: 2\n",
            "The critical points are : [0, 6]\n",
            "\n",
            " For critical points:  0\n",
            "The associated y value: 0\n",
            "The point is :( 0 , 0 )\n",
            "The 0  is the local minimum\n",
            "\n",
            " For critical points:  6\n",
            "The associated y value: 54/5\n",
            "The point is :( 6 , 54/5 )\n",
            "The 6 is the local maximal\n",
            "\n",
            " The global minima on [ -500 ,  500 ] is\n",
            " [[-12275000]] at [[500]]\n",
            "\n",
            " The global maxima on [ -500 ,  500 ] is\n",
            " [[12725000]] at [[-500]] \n",
            "\n",
            "For -750"
          ]
        },
        {
          "output_type": "stream",
          "name": "stderr",
          "text": [
            "/usr/local/lib/python3.7/dist-packages/ipykernel_launcher.py:71: FutureWarning: Using a non-tuple sequence for multidimensional indexing is deprecated; use `arr[tuple(seq)]` instead of `arr[seq]`. In the future this will be interpreted as an array index, `arr[np.array(seq)]`, which will result either in an error or a different result.\n"
          ]
        },
        {
          "output_type": "stream",
          "name": "stdout",
          "text": [
            " 750\n",
            "Evaluation if leftvalues: 42693750\n",
            "Evaluation if rightvalues -41681250\n",
            "\n",
            " Total number of critical points: 2\n",
            "The critical points are : [0, 6]\n",
            "\n",
            " For critical points:  0\n",
            "The associated y value: 0\n",
            "The point is :( 0 , 0 )\n",
            "The 0  is the local minimum\n",
            "\n",
            " For critical points:  6\n",
            "The associated y value: 54/5\n",
            "The point is :( 6 , 54/5 )\n",
            "The 6 is the local maximal\n",
            "\n",
            " The global minima on [ -750 ,  750 ] is\n",
            " [[-41681250]] at [[750]]\n",
            "\n",
            " The global maxima on [ -750 ,  750 ] is\n",
            " [[42693750]] at [[-750]] \n",
            "\n",
            "For -800 800\n",
            "Evaluation if leftvalues: 51776000\n",
            "Evaluation if rightvalues -50624000\n",
            "\n",
            " Total number of critical points: 2\n",
            "The critical points are : [0, 6]\n",
            "\n",
            " For critical points:  0\n",
            "The associated y value: 0\n",
            "The point is :( 0 , 0 )\n",
            "The 0  is the local minimum\n",
            "\n",
            " For critical points:  6\n",
            "The associated y value: 54/5\n",
            "The point is :( 6 , 54/5 )\n",
            "The 6 is the local maximal\n",
            "\n",
            " The global minima on [ -800 ,  800 ] is\n",
            " [[-50624000]] at [[800]]\n",
            "\n",
            " The global maxima on [ -800 ,  800 ] is\n",
            " [[51776000]] at [[-800]] \n",
            "\n",
            "For -900 900\n",
            "Evaluation if leftvalues: 73629000\n",
            "Evaluation if rightvalues -72171000\n",
            "\n",
            " Total number of critical points: 2\n",
            "The critical points are : [0, 6]\n",
            "\n",
            " For critical points:  0\n",
            "The associated y value: 0\n",
            "The point is :( 0 , 0 )\n",
            "The 0  is the local minimum\n",
            "\n",
            " For critical points:  6\n",
            "The associated y value: 54/5\n",
            "The point is :( 6 , 54/5 )\n",
            "The 6 is the local maximal\n",
            "\n",
            " The global minima on [ -900 ,  900 ] is\n",
            " [[-72171000]] at [[900]]\n",
            "\n",
            " The global maxima on [ -900 ,  900 ] is\n",
            " [[73629000]] at [[-900]] \n",
            "\n",
            "For -1000 1000\n",
            "Evaluation if leftvalues: 100900000\n",
            "Evaluation if rightvalues -99100000\n",
            "\n",
            " Total number of critical points: 2\n",
            "The critical points are : [0, 6]\n",
            "\n",
            " For critical points:  0\n",
            "The associated y value: 0\n",
            "The point is :( 0 , 0 )\n",
            "The 0  is the local minimum\n",
            "\n",
            " For critical points:  6\n",
            "The associated y value: 54/5\n",
            "The point is :( 6 , 54/5 )\n",
            "The 6 is the local maximal\n",
            "\n",
            " The global minima on [ -1000 ,  1000 ] is\n",
            " [[-99100000]] at [[1000]]\n",
            "\n",
            " The global maxima on [ -1000 ,  1000 ] is\n",
            " [[100900000]] at [[-1000]] \n",
            "\n"
          ]
        }
      ]
    },
    {
      "cell_type": "code",
      "metadata": {
        "colab": {
          "base_uri": "https://localhost:8080/"
        },
        "id": "m4r-DpB5F2L3",
        "outputId": "f5845a34-ec79-4b98-9823-73aa56c79695"
      },
      "source": [
        "global_maxima"
      ],
      "execution_count": null,
      "outputs": [
        {
          "output_type": "execute_result",
          "data": {
            "text/plain": [
              "[array([[190]], dtype=object),\n",
              " array([[14750]], dtype=object),\n",
              " array([[47250]], dtype=object),\n",
              " array([[109000]], dtype=object),\n",
              " array([[836000]], dtype=object),\n",
              " array([[2781000]], dtype=object),\n",
              " array([[6544000]], dtype=object),\n",
              " array([[12725000]], dtype=object),\n",
              " array([[42693750]], dtype=object),\n",
              " array([[51776000]], dtype=object),\n",
              " array([[73629000]], dtype=object),\n",
              " array([[100900000]], dtype=object)]"
            ]
          },
          "metadata": {},
          "execution_count": 12
        }
      ]
    },
    {
      "cell_type": "code",
      "metadata": {
        "id": "zgDBYA0sF6YX"
      },
      "source": [
        "import seaborn as sns"
      ],
      "execution_count": null,
      "outputs": []
    },
    {
      "cell_type": "code",
      "metadata": {
        "id": "gOnxZPh3F7W_"
      },
      "source": [
        "a = np.array(global_maxima)\n",
        "b = np.array(global_minima)"
      ],
      "execution_count": null,
      "outputs": []
    },
    {
      "cell_type": "code",
      "metadata": {
        "colab": {
          "base_uri": "https://localhost:8080/"
        },
        "id": "Ck7-NpOxF-cg",
        "outputId": "0b787206-b038-4bb7-e6fc-ab3b33885c32"
      },
      "source": [
        "a"
      ],
      "execution_count": null,
      "outputs": [
        {
          "output_type": "execute_result",
          "data": {
            "text/plain": [
              "array([[[190]],\n",
              "\n",
              "       [[14750]],\n",
              "\n",
              "       [[47250]],\n",
              "\n",
              "       [[109000]],\n",
              "\n",
              "       [[836000]],\n",
              "\n",
              "       [[2781000]],\n",
              "\n",
              "       [[6544000]],\n",
              "\n",
              "       [[12725000]],\n",
              "\n",
              "       [[42693750]],\n",
              "\n",
              "       [[51776000]],\n",
              "\n",
              "       [[73629000]],\n",
              "\n",
              "       [[100900000]]], dtype=object)"
            ]
          },
          "metadata": {},
          "execution_count": 15
        }
      ]
    },
    {
      "cell_type": "code",
      "metadata": {
        "colab": {
          "base_uri": "https://localhost:8080/"
        },
        "id": "Q3wFf9iNF_L3",
        "outputId": "8095597d-cd35-4d44-d819-5aa79aaa5446"
      },
      "source": [
        "b"
      ],
      "execution_count": null,
      "outputs": [
        {
          "output_type": "execute_result",
          "data": {
            "text/plain": [
              "array([[[-10]],\n",
              "\n",
              "       [[-10250]],\n",
              "\n",
              "       [[-37125]],\n",
              "\n",
              "       [[-91000]],\n",
              "\n",
              "       [[-764000]],\n",
              "\n",
              "       [[-2619000]],\n",
              "\n",
              "       [[-6256000]],\n",
              "\n",
              "       [[-12275000]],\n",
              "\n",
              "       [[-41681250]],\n",
              "\n",
              "       [[-50624000]],\n",
              "\n",
              "       [[-72171000]],\n",
              "\n",
              "       [[-99100000]]], dtype=object)"
            ]
          },
          "metadata": {},
          "execution_count": 16
        }
      ]
    },
    {
      "cell_type": "code",
      "metadata": {
        "colab": {
          "base_uri": "https://localhost:8080/",
          "height": 293
        },
        "id": "xZM-fbjQGAGI",
        "outputId": "d3b3da91-a461-46ae-f2e6-ec3d64d07e86"
      },
      "source": [
        "sns.heatmap([[190],[14750],[47250],[109000],[836000],[2781000],[6544000],[12725000],[42693750],[51776000],[73629000],[100900000]])"
      ],
      "execution_count": null,
      "outputs": [
        {
          "output_type": "execute_result",
          "data": {
            "text/plain": [
              "<matplotlib.axes._subplots.AxesSubplot at 0x7f48ecad6e50>"
            ]
          },
          "metadata": {},
          "execution_count": 17
        },
        {
          "output_type": "display_data",
          "data": {
            "image/png": "[encoded data removed]",
            "text/plain": [
              "<Figure size 432x288 with 2 Axes>"
            ]
          },
          "metadata": {
            "needs_background": "light"
          }
        }
      ]
    },
    {
      "cell_type": "code",
      "metadata": {
        "colab": {
          "base_uri": "https://localhost:8080/",
          "height": 293
        },
        "id": "2kX_qqgHGCap",
        "outputId": "8406e354-dc28-45a9-baf2-ebd7c6f90349"
      },
      "source": [
        "sns.heatmap([[-10],[-10250],[-37125],[-91000],[-764000],[-2619000],[-6256000],[-12275000],[-41681250],[-50624000],[-72171000],[-99100000]])"
      ],
      "execution_count": null,
      "outputs": [
        {
          "output_type": "execute_result",
          "data": {
            "text/plain": [
              "<matplotlib.axes._subplots.AxesSubplot at 0x7f48ec4ae6d0>"
            ]
          },
          "metadata": {},
          "execution_count": 18
        },
        {
          "output_type": "display_data",
          "data": {
            "image/png": "[encoded data removed]",
            "text/plain": [
              "<Figure size 432x288 with 2 Axes>"
            ]
          },
          "metadata": {
            "needs_background": "light"
          }
        }
      ]
    },
    {
      "cell_type": "code",
      "metadata": {
        "id": "RyyaQ1ZlGEFx"
      },
      "source": [
        "\n",
        "c = np.array(local_maxima)\n",
        "\n"
      ],
      "execution_count": null,
      "outputs": []
    },
    {
      "cell_type": "code",
      "metadata": {
        "colab": {
          "base_uri": "https://localhost:8080/"
        },
        "id": "JedNlqWRGJdY",
        "outputId": "a478d813-033f-4503-ae83-99e722bf4527"
      },
      "source": [
        "c"
      ],
      "execution_count": null,
      "outputs": [
        {
          "output_type": "execute_result",
          "data": {
            "text/plain": [
              "array([6, 6, 6, 6, 6, 6, 6, 6, 6, 6, 6, 6], dtype=object)"
            ]
          },
          "metadata": {},
          "execution_count": 20
        }
      ]
    },
    {
      "cell_type": "code",
      "metadata": {
        "colab": {
          "base_uri": "https://localhost:8080/",
          "height": 286
        },
        "id": "0duMhLCmGK9g",
        "outputId": "e3924f2e-1ded-4014-952c-904234a79f41"
      },
      "source": [
        "sns.heatmap([[6], [6],[6] ,[6],[6], [6], [6], [6], [6], [6], [6], [6]])"
      ],
      "execution_count": null,
      "outputs": [
        {
          "output_type": "execute_result",
          "data": {
            "text/plain": [
              "<matplotlib.axes._subplots.AxesSubplot at 0x7f48ec44c510>"
            ]
          },
          "metadata": {},
          "execution_count": 21
        },
        {
          "output_type": "display_data",
          "data": {
            "image/png": "[encoded data removed]",
            "text/plain": [
              "<Figure size 432x288 with 2 Axes>"
            ]
          },
          "metadata": {
            "needs_background": "light"
          }
        }
      ]
    },
    {
      "cell_type": "code",
      "metadata": {
        "id": "bWC198r3GPPI"
      },
      "source": [
        "d = np.array(local_minima)"
      ],
      "execution_count": null,
      "outputs": []
    },
    {
      "cell_type": "code",
      "metadata": {
        "colab": {
          "base_uri": "https://localhost:8080/"
        },
        "id": "A9aVnaFoGP7J",
        "outputId": "b3a77a4e-3dff-40ff-c242-510ec7fd7e88"
      },
      "source": [
        "d"
      ],
      "execution_count": null,
      "outputs": [
        {
          "output_type": "execute_result",
          "data": {
            "text/plain": [
              "array([0, 0, 0, 0, 0, 0, 0, 0, 0, 0, 0, 0], dtype=object)"
            ]
          },
          "metadata": {},
          "execution_count": 23
        }
      ]
    },
    {
      "cell_type": "code",
      "metadata": {
        "colab": {
          "base_uri": "https://localhost:8080/",
          "height": 286
        },
        "id": "I0WKKCjKGRRZ",
        "outputId": "e127b817-fbb3-46ee-d396-7db4f91bf3e8"
      },
      "source": [
        "sns.heatmap([[0], [0],[0] ,[0],[0], [0], [0], [0], [0], [0], [0], [0]])"
      ],
      "execution_count": null,
      "outputs": [
        {
          "output_type": "execute_result",
          "data": {
            "text/plain": [
              "<matplotlib.axes._subplots.AxesSubplot at 0x7f48e36b0dd0>"
            ]
          },
          "metadata": {},
          "execution_count": 24
        },
        {
          "output_type": "display_data",
          "data": {
            "image/png": "[encoded data removed]",
            "text/plain": [
              "<Figure size 432x288 with 2 Axes>"
            ]
          },
          "metadata": {
            "needs_background": "light"
          }
        }
      ]
    },
    {
      "cell_type": "code",
      "metadata": {
        "colab": {
          "base_uri": "https://localhost:8080/",
          "height": 458
        },
        "id": "h6j_cbvpGUER",
        "outputId": "b673869f-c46e-4a4d-9571-2573fc267b71"
      },
      "source": [
        "from matplotlib import pyplot as plt\n",
        "import numpy as np\n",
        " \n",
        "# CDeclaring dataset\n",
        "\n",
        "fig, ax = plt.subplots(figsize =(10, 7))\n",
        "local=(22/5,14/5,0,54/5,27/5,0,104/5,8,0,35,10,0,54,54/5,0,190,\n",
        "       -10,0,1512/5,-135,0,1160,-440,0,729/5,0,0,242,-121/5,0,\n",
        "       1160,-440,0,2125,-1000,0,1,4/5,0,5390,-3185,0,14750,-10250,0)\n",
        "\n",
        "ax.hist(local,color=\"black\")\n",
        "\n",
        "plt.xlabel(' Local Extrema')\n",
        "plt.ylabel('Count of occurance')\n",
        "plt.title('Local Extrema plot:')\n",
        "# Show plot\n",
        "plt.show()"
      ],
      "execution_count": null,
      "outputs": [
        {
          "output_type": "display_data",
          "data": {
            "image/png": "[encoded data removed]",
            "text/plain": [
              "<Figure size 720x504 with 1 Axes>"
            ]
          },
          "metadata": {
            "needs_background": "light"
          }
        }
      ]
    },
    {
      "cell_type": "code",
      "metadata": {
        "id": "mxMqQAXaGWZ5"
      },
      "source": [
        ""
      ],
      "execution_count": null,
      "outputs": []
    }
  ]
}