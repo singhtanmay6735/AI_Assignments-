{
  "nbformat": 4,
  "nbformat_minor": 0,
  "metadata": {
    "colab": {
      "name": "E20CSE035_Ques40.ipynb",
      "provenance": [],
      "authorship_tag": "ABX9TyNzGULHGNh3+a2JMiVSSWU4",
      "include_colab_link": true
    },
    "kernelspec": {
      "name": "python3",
      "display_name": "Python 3"
    },
    "language_info": {
      "name": "python"
    }
  },
  "cells": [
    {
      "cell_type": "markdown",
      "metadata": {
        "id": "view-in-github",
        "colab_type": "text"
      },
      "source": [
        "<a href=\"https://colab.research.google.com/github/singhtanmay6735/AI_Assignments-/blob/main/E20CSE035_Ques40.ipynb\" target=\"_parent\"><img src=\"https://colab.research.google.com/assets/colab-badge.svg\" alt=\"Open In Colab\"/></a>"
      ]
    },
    {
      "cell_type": "markdown",
      "metadata": {
        "id": "BbuS1o1ohyvU"
      },
      "source": [
        "**Tanmay Singh E20CSE035**\n",
        "Lab Exam Ques Number 40"
      ]
    },
    {
      "cell_type": "code",
      "metadata": {
        "id": "D_sN3KqkhBGw"
      },
      "source": [
        "import numpy as np\n",
        "from sympy import*\n",
        "import matplotlib.pyplot as plt"
      ],
      "execution_count": 8,
      "outputs": []
    },
    {
      "cell_type": "code",
      "metadata": {
        "id": "Yp_ts4PGhUAm",
        "colab": {
          "base_uri": "https://localhost:8080/",
          "height": 473
        },
        "outputId": "cb70253d-be32-4031-aad8-d0061ef084ff"
      },
      "source": [
        "x,y= symbols('x y')\n",
        "x = np.arange(0,2,0.1)\n",
        "y = 8*x-3*(x**2)+(x**3)-2*(x**4)-x**6\n",
        "plt.plot(x,y)\n",
        "x,y= symbols('x y')\n",
        "y = 8*x-3*(x**2)+(x**3)-2*(x**4)-x**6\n",
        "diff = y.diff(x,1)\n",
        "x0 = int(input(\"First guess - \"))\n",
        "x1 = int(input(\"Second guess - \"))\n",
        "e = float(input(\"Tolerable error - \"))\n",
        "while y.subs(x,x0)*y.subs(x,x1)>0:\n",
        "  print('Given guess values do not bracket the root, try Again with different guess values:')\n",
        "  x0 = int(input(\"First guess - \"))\n",
        "  x1 = int(input(\"Second guess - \"))\n",
        "  e = float(input(\"Tolerable error - \"))\n",
        "count = 0\n",
        "while abs(x1-x0) >=  2*e:\n",
        "  count+=1\n",
        "  a = (x0+x1)/2\n",
        "  b = diff.subs(x,a)\n",
        "  print(\"Iteration %d -> (x0 + x1)/2 = %.2f, f'(x) = %.2f\"%(count,a,b))\n",
        "  if b>=0:\n",
        "    x0 = a\n",
        "  else:\n",
        "    x1 = a\n",
        "print(\"\\nRequired root is\",a)"
      ],
      "execution_count": 9,
      "outputs": [
        {
          "output_type": "stream",
          "name": "stdout",
          "text": [
            "First guess - 0\n",
            "Second guess - 2\n",
            "Tolerable error - 0.01\n",
            "Iteration 1 -> (x0 + x1)/2 = 1.00, f'(x) = -9.00\n",
            "Iteration 2 -> (x0 + x1)/2 = 0.50, f'(x) = 4.56\n",
            "Iteration 3 -> (x0 + x1)/2 = 0.75, f'(x) = 0.39\n",
            "Iteration 4 -> (x0 + x1)/2 = 0.88, f'(x) = -3.39\n",
            "Iteration 5 -> (x0 + x1)/2 = 0.81, f'(x) = -1.31\n",
            "Iteration 6 -> (x0 + x1)/2 = 0.78, f'(x) = -0.42\n",
            "Iteration 7 -> (x0 + x1)/2 = 0.77, f'(x) = -0.00\n",
            "\n",
            "Required root is 0.765625\n"
          ]
        },
        {
          "output_type": "display_data",
          "data": {
            "image/png": "[encoded data removed]",
            "text/plain": [
              "<Figure size 432x288 with 1 Axes>"
            ]
          },
          "metadata": {
            "needs_background": "light"
          }
        }
      ]
    },
    {
      "cell_type": "code",
      "metadata": {
        "id": "krB2e61Al16-"
      },
      "source": [
        ""
      ],
      "execution_count": null,
      "outputs": []
    }
  ]
}