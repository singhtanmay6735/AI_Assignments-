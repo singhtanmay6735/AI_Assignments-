{
  "nbformat": 4,
  "nbformat_minor": 0,
  "metadata": {
    "colab": {
      "name": "LabAss6_code_TanmaySingh.ipynb",
      "provenance": [],
      "authorship_tag": "ABX9TyMjpqbFLJqv0tEW1iYMzEfW",
      "include_colab_link": true
    },
    "kernelspec": {
      "name": "python3",
      "display_name": "Python 3"
    },
    "language_info": {
      "name": "python"
    }
  },
  "cells": [
    {
      "cell_type": "markdown",
      "metadata": {
        "id": "view-in-github",
        "colab_type": "text"
      },
      "source": [
        "<a href=\"https://colab.research.google.com/github/singhtanmay6735/AI_Assignments-/blob/main/LabAss6_code_TanmaySingh.ipynb\" target=\"_parent\"><img src=\"https://colab.research.google.com/assets/colab-badge.svg\" alt=\"Open In Colab\"/></a>"
      ]
    },
    {
      "cell_type": "markdown",
      "metadata": {
        "id": "gSOIeTRrmcRF"
      },
      "source": [
        "**Tanmay Singh E20CSE035 EB06**"
      ]
    },
    {
      "cell_type": "code",
      "metadata": {
        "colab": {
          "base_uri": "https://localhost:8080/"
        },
        "id": "SvMfnoXkmAit",
        "outputId": "98ea6a2c-8042-44c1-82ca-f8adc97dac35"
      },
      "source": [
        "import scipy.optimize as so\n",
        "def f(x):\n",
        "    y = (4*x**3) - (60 * x*x) + (216*x)\n",
        "    return -y   \n",
        "# Starting guess\n",
        "guess = 2.0\n",
        "# optimizing\n",
        "result = so.minimize(f, guess)\n",
        "\n",
        "# Print result\n",
        "if result.success:\n",
        "    print(\"Success!\")\n",
        "    print(\"Side of square = {}\\nMax Volume = {}\".format(result.x,result.fun))\n",
        "else:\n",
        "    print(\"Could not find a maximum.\")"
      ],
      "execution_count": 1,
      "outputs": [
        {
          "output_type": "stream",
          "name": "stdout",
          "text": [
            "Success!\n",
            "Side of square = [2.35424868]\n",
            "Max Volume = -228.16207341961712\n"
          ]
        }
      ]
    },
    {
      "cell_type": "code",
      "metadata": {
        "colab": {
          "base_uri": "https://localhost:8080/"
        },
        "id": "mHsc-Um4mNzu",
        "outputId": "85dde453-39e3-43ab-9a08-ebf7d851f8f7"
      },
      "source": [
        "#Q2\n",
        "import scipy.optimize as so\n",
        "def f(x):\n",
        "    y = - (2 * x*x) + (100*x)\n",
        "    return -y   \n",
        "# Starting guess\n",
        "guess = 22.0\n",
        "# optimizing\n",
        "result = so.minimize(f, guess)\n",
        "\n",
        "# Print result\n",
        "if result.success:\n",
        "    print(\"Success!\")\n",
        "    print(\"Length = {}\\nWidth = {}\\nMax Area = {}\".format(result.x, 100-2*result.x, result.fun))\n",
        "else:\n",
        "    print(\"Could not find a maximum.\")"
      ],
      "execution_count": 2,
      "outputs": [
        {
          "output_type": "stream",
          "name": "stdout",
          "text": [
            "Success!\n",
            "Length = [25.00000117]\n",
            "Width = [49.99999766]\n",
            "Max Area = -1249.9999999999973\n"
          ]
        }
      ]
    },
    {
      "cell_type": "code",
      "metadata": {
        "colab": {
          "base_uri": "https://localhost:8080/"
        },
        "id": "CZOyoc4DmPnV",
        "outputId": "f9dbe7df-e638-4c9a-c2e8-45085436fc5c"
      },
      "source": [
        "#Q3\n",
        "import scipy.optimize as spo\n",
        "# Function to maximize\n",
        "def f(xyz):\n",
        "    x = xyz[0]\n",
        "    y = xyz[1]\n",
        "    z = xyz[2]\n",
        "    fun = x * y +y*z\n",
        "    return -fun\n",
        "    \n",
        "# Starting guess\n",
        "xy_start = [0.5,0.5,0.2]\n",
        "# Bounds\n",
        "bnds = ((0, 100), (0, 100),(0,100))\n",
        "\n",
        "# Constraints\n",
        "cons =({'type':'eq', 'fun': lambda xyz: (xyz[0]+2*xyz[1]) - 6},{'type':'eq', 'fun': lambda xyz: (xyz[0]-3*xyz[2]) })\n",
        "\n",
        "# Optimizing\n",
        "result = spo.minimize(f, xy_start, options={\"disp\": True}, constraints=cons, bounds=bnds)\n",
        "\n",
        "# Print result\n",
        "if result.success:\n",
        "    print(\"Success!\")\n",
        "    xyz = result.x\n",
        "    x = xyz[0]\n",
        "    y = xyz[1]\n",
        "    z=xyz[2]\n",
        "    print(f\"x = {x} y = {y} z={z}\\nMax value of function= {result.fun}\")\n",
        "else:\n",
        "    print(\"Sorry, could not find a maximum.\")"
      ],
      "execution_count": 3,
      "outputs": [
        {
          "output_type": "stream",
          "name": "stdout",
          "text": [
            "Optimization terminated successfully.    (Exit mode 0)\n",
            "            Current function value: -6.0\n",
            "            Iterations: 4\n",
            "            Function evaluations: 20\n",
            "            Gradient evaluations: 4\n",
            "Success!\n",
            "x = 2.999999984659101 y = 1.5000000076704496 z=0.9999999948863669\n",
            "Max value of function= -6.0\n"
          ]
        }
      ]
    },
    {
      "cell_type": "code",
      "metadata": {
        "colab": {
          "base_uri": "https://localhost:8080/"
        },
        "id": "6bdqI6WQmSVN",
        "outputId": "8b283d27-16dc-48cf-d017-549b0241ca5d"
      },
      "source": [
        "import scipy.optimize as spo\n",
        "# Function to maximize\n",
        "def f(xy):\n",
        "    x = xy[0]\n",
        "    y = xy[1]\n",
        "    fun = 13*x*x+ 10*x * y+7*y*y+x+y+2\n",
        "    return fun\n",
        "    \n",
        "# Starting guess\n",
        "xy_start = [0,0]\n",
        "# Bounds\n",
        "bnds = ((0, 100), (0, 100))\n",
        "\n",
        "cons =({'type':'eq', 'fun': lambda xy: 2*xy[0]-5*xy[1] - 2}, {'type':'eq', 'fun': lambda xy: xy[0]+ xy[1] - 1})\n",
        "\n",
        "# Optimizing\n",
        "result = spo.minimize(f, xy_start, options={\"disp\": True}, constraints=cons, bounds=bnds)\n",
        "\n",
        "# Print result\n",
        "if result.success:\n",
        "    print(\"Success!\")\n",
        "    xy = result.x\n",
        "    x = xy[0]\n",
        "    y = xy[1]\n",
        "    \n",
        "    print(f\"x = {x} y = {y} \\nMin Value of Function= {result.fun}\")\n",
        "else:\n",
        "    print(\"Sorry, could not find a minimum.\")"
      ],
      "execution_count": 4,
      "outputs": [
        {
          "output_type": "stream",
          "name": "stdout",
          "text": [
            "Optimization terminated successfully.    (Exit mode 0)\n",
            "            Current function value: 15.999999999999996\n",
            "            Iterations: 3\n",
            "            Function evaluations: 14\n",
            "            Gradient evaluations: 3\n",
            "Success!\n",
            "x = 0.9999999999999997 y = 3.416070856747427e-16 \n",
            "Min Value of Function= 15.999999999999996\n"
          ]
        }
      ]
    },
    {
      "cell_type": "code",
      "metadata": {
        "colab": {
          "base_uri": "https://localhost:8080/"
        },
        "id": "YFV8nY3smU_1",
        "outputId": "3c3aa06f-8612-4927-cc60-cf89d18c1a74"
      },
      "source": [
        "#Q5 Maximizing\n",
        "import scipy.optimize as spo\n",
        "# Function to maximize\n",
        "def f(xy):\n",
        "    x = xy[0]\n",
        "    y = xy[1]\n",
        "    fun = 5*x -3*y\n",
        "    return -fun\n",
        "    \n",
        "# Starting guess\n",
        "xy_start = [0,0]\n",
        "# Bounds\n",
        "bnds = ((5, 11), (-10,0))\n",
        "\n",
        "cons =({'type':'eq', 'fun': lambda xy: xy[0]*xy[0] +xy[1]* xy[1]- 136})\n",
        "\n",
        "# Optimizing\n",
        "result = spo.minimize(f, xy_start, options={\"disp\": True}, constraints=cons, bounds=bnds)\n",
        "\n",
        "# Print result\n",
        "if result.success:\n",
        "    print(\"Success!\")\n",
        "    xy = result.x\n",
        "    x = xy[0]\n",
        "    y = xy[1]\n",
        "    \n",
        "    print(f\"Maximum is:\\nx = {x} y = {y} function value= {result.fun}\")\n",
        "else:\n",
        "    print(\"Sorry, could not find a maximum.\")"
      ],
      "execution_count": 5,
      "outputs": [
        {
          "output_type": "stream",
          "name": "stdout",
          "text": [
            "Optimization terminated successfully.    (Exit mode 0)\n",
            "            Current function value: -68.00000001117026\n",
            "            Iterations: 6\n",
            "            Function evaluations: 25\n",
            "            Gradient evaluations: 6\n",
            "Success!\n",
            "Maximum is:\n",
            "x = 9.999997497563944 y = -6.000004174450177 function value= -68.00000001117026\n"
          ]
        }
      ]
    },
    {
      "cell_type": "code",
      "metadata": {
        "colab": {
          "base_uri": "https://localhost:8080/"
        },
        "id": "jkUev_uQmXd9",
        "outputId": "cc5dcc8a-589e-4f54-964c-6026f7039306"
      },
      "source": [
        "\n",
        "# Function to minimize\n",
        "def f(xy):\n",
        "    x = xy[0]\n",
        "    y = xy[1]\n",
        "    fun = 5*x -3*y\n",
        "    return fun\n",
        "    \n",
        "# Starting guess\n",
        "xy_start = [0,0]\n",
        "# Bounds\n",
        "bnds = ((-11, 5), (2,8))\n",
        "\n",
        "cons =({'type':'eq', 'fun': lambda xy: xy[0]*xy[0] +xy[1]* xy[1]- 136})\n",
        "\n",
        "# Optimizing\n",
        "result = spo.minimize(f, xy_start, options={\"disp\": True}, constraints=cons, bounds=bnds)\n",
        "\n",
        "# Print result\n",
        "if result.success:\n",
        "    print(\"Success!\")\n",
        "    xy = result.x\n",
        "    x = xy[0]\n",
        "    y = xy[1]\n",
        "    \n",
        "    print(f\"Minimum is:\\nx = {x} y = {y} function value= {result.fun}\")\n",
        "else:\n",
        "    print(\"Sorry, could not find a minimum.\")"
      ],
      "execution_count": 6,
      "outputs": [
        {
          "output_type": "stream",
          "name": "stdout",
          "text": [
            "Optimization terminated successfully.    (Exit mode 0)\n",
            "            Current function value: -68.00000001377067\n",
            "            Iterations: 8\n",
            "            Function evaluations: 32\n",
            "            Gradient evaluations: 8\n",
            "Success!\n",
            "Minimum is:\n",
            "x = -9.999999747801875 y = 6.000000424920433 function value= -68.00000001377067\n"
          ]
        }
      ]
    },
    {
      "cell_type": "code",
      "metadata": {
        "id": "2sSiV4oVmZ2F"
      },
      "source": [
        ""
      ],
      "execution_count": null,
      "outputs": []
    }
  ]
}